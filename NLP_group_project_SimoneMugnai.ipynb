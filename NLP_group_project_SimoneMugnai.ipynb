{
 "cells": [
  {
   "cell_type": "code",
   "execution_count": 44,
   "metadata": {},
   "outputs": [],
   "source": [
    "import json\n",
    "import re\n",
    "\n",
    "file_path = \"C:/Users/simon/OneDrive/Desktop/Advanced Machine Learning/NLP/Group_project/train-v2.0.json\"\n",
    "with open(file_path, 'r') as file:\n",
    "    data = json.load(file)\n",
    "    text_data = data[\"data\"]\n",
    "    paragraphs = [paragraph[\"context\"] for topic in text_data for paragraph in topic[\"paragraphs\"]]\n",
    "    \n",
    "    # Extract questions and answers, handling cases where \"answers\" list is empty\n",
    "    questions = []\n",
    "    answers = []\n",
    "    for topic in text_data:\n",
    "        for paragraph in topic[\"paragraphs\"]:\n",
    "            for question in paragraph[\"qas\"]:\n",
    "                # Check if \"answers\" list is not empty before accessing its elements\n",
    "                if question[\"answers\"]:\n",
    "                    questions.append(question[\"question\"])\n",
    "                    answers.append(question[\"answers\"][0][\"text\"])\n",
    "                else:\n",
    "                    # Handle the case where \"answers\" list is empty\n",
    "                    questions.append(question[\"question\"])\n",
    "                    answers.append(\"No answer available\")\n"
   ]
  },
  {
   "cell_type": "code",
   "execution_count": 45,
   "metadata": {},
   "outputs": [
    {
     "name": "stdout",
     "output_type": "stream",
     "text": [
      "Paragraphs:\n",
      " ['Beyoncé Giselle Knowles-Carter (/biːˈjɒnseɪ/ bee-YON-say) (born September 4, 1981) is an American singer, songwriter, record producer and actress. Born and raised in Houston, Texas, she performed in various singing and dancing competitions as a child, and rose to fame in the late 1990s as lead singer of R&B girl-group Destiny\\'s Child. Managed by her father, Mathew Knowles, the group became one of the world\\'s best-selling girl groups of all time. Their hiatus saw the release of Beyoncé\\'s debut album, Dangerously in Love (2003), which established her as a solo artist worldwide, earned five Grammy Awards and featured the Billboard Hot 100 number-one singles \"Crazy in Love\" and \"Baby Boy\".', 'Following the disbandment of Destiny\\'s Child in June 2005, she released her second solo album, B\\'Day (2006), which contained hits \"Déjà Vu\", \"Irreplaceable\", and \"Beautiful Liar\". Beyoncé also ventured into acting, with a Golden Globe-nominated performance in Dreamgirls (2006), and starring roles in The Pink Panther (2006) and Obsessed (2009). Her marriage to rapper Jay Z and portrayal of Etta James in Cadillac Records (2008) influenced her third album, I Am... Sasha Fierce (2008), which saw the birth of her alter-ego Sasha Fierce and earned a record-setting six Grammy Awards in 2010, including Song of the Year for \"Single Ladies (Put a Ring on It)\". Beyoncé took a hiatus from music in 2010 and took over management of her career; her fourth album 4 (2011) was subsequently mellower in tone, exploring 1970s funk, 1980s pop, and 1990s soul. Her critically acclaimed fifth studio album, Beyoncé (2013), was distinguished from previous releases by its experimental production and exploration of darker themes.', 'A self-described \"modern-day feminist\", Beyoncé creates songs that are often characterized by themes of love, relationships, and monogamy, as well as female sexuality and empowerment. On stage, her dynamic, highly choreographed performances have led to critics hailing her as one of the best entertainers in contemporary popular music. Throughout a career spanning 19 years, she has sold over 118 million records as a solo artist, and a further 60 million with Destiny\\'s Child, making her one of the best-selling music artists of all time. She has won 20 Grammy Awards and is the most nominated woman in the award\\'s history. The Recording Industry Association of America recognized her as the Top Certified Artist in America during the 2000s decade. In 2009, Billboard named her the Top Radio Songs Artist of the Decade, the Top Female Artist of the 2000s and their Artist of the Millennium in 2011. Time listed her among the 100 most influential people in the world in 2013 and 2014. Forbes magazine also listed her as the most powerful female musician of 2015.']\n",
      "\n",
      "Questions:\n",
      " ['When did Beyonce start becoming popular?', 'What areas did Beyonce compete in when she was growing up?', \"When did Beyonce leave Destiny's Child and become a solo singer?\"]\n",
      "\n",
      "Answers:\n",
      " ['in the late 1990s', 'singing and dancing', '2003']\n"
     ]
    }
   ],
   "source": [
    "#remove spaces\n",
    "paragraphs = [re.sub('\\n', ' ', doc) for doc in paragraphs]\n",
    "questions = [re.sub('\\n', ' ', question) for question in questions]\n",
    "answers = [re.sub('\\n', ' ', answer) for answer in answers]\n",
    "#remove email(probably not useful)\n",
    "paragraphs = [re.sub('[a-zA-Z0-9._%+-]+@[a-zA-Z0-9.-]+\\.[a-zA-Z]{2,}', '', doc) for doc in paragraphs]\n",
    "questions = [re.sub('[a-zA-Z0-9._%+-]+@[a-zA-Z0-9.-]+\\.[a-zA-Z]{2,}', '', question) for question in questions]\n",
    "answers = [re.sub('[a-zA-Z0-9._%+-]+@[a-zA-Z0-9.-]+\\.[a-zA-Z]{2,}', '', answer) for answer in answers]\n",
    "# split sentences\n",
    "sentences_par = [re.split('[?!.]\\s', doc) for doc in paragraphs]\n",
    "sentences_que = [re.split('[?!.]\\s', question) for question in questions]\n",
    "sentences_ans = [re.split('[?!.]\\s', answer) for answer in answers]\n",
    "\n",
    "print(\"Paragraphs:\\n\", paragraphs[:3])\n",
    "print(\"\\nQuestions:\\n\", questions[:3])\n",
    "print(\"\\nAnswers:\\n\", answers[:3])"
   ]
  },
  {
   "cell_type": "code",
   "execution_count": 46,
   "metadata": {},
   "outputs": [
    {
     "data": {
      "text/plain": [
       "['When did Beyonce start becoming popular?',\n",
       " 'What areas did Beyonce compete in when she was growing up?',\n",
       " \"When did Beyonce leave Destiny's Child and become a solo singer?\",\n",
       " 'In what city and state did Beyonce  grow up',\n",
       " '']"
      ]
     },
     "execution_count": 46,
     "metadata": {},
     "output_type": "execute_result"
    }
   ],
   "source": [
    "from pandas.core.common import flatten\n",
    "#flatten the structure to 3 big array of phrase\n",
    "sentences_par = list(flatten(sentences_par))\n",
    "sentences_que= list(flatten(sentences_que))\n",
    "sentences_ans = list(flatten(sentences_ans))\n",
    "\n",
    "sentences_par[:5]\n",
    "sentences_ans[:5]\n",
    "sentences_que[:5]"
   ]
  },
  {
   "cell_type": "code",
   "execution_count": 47,
   "metadata": {},
   "outputs": [
    {
     "name": "stdout",
     "output_type": "stream",
     "text": [
      "['beyoncé', 'giselle', 'knowles', 'carter', 'biːˈjɒnseɪ', 'bee', 'yon', 'say', 'born', 'september', '4', '1981', 'is', 'an', 'american', 'singer', 'songwriter', 'record', 'producer', 'and', 'actress']\n",
      "['born', 'and', 'raised', 'in', 'houston', 'texas', 'she', 'performed', 'in', 'various', 'singing', 'and', 'dancing', 'competitions', 'as', 'a', 'child', 'and', 'rose', 'to', 'fame', 'in', 'the', 'late', '1990s', 'as', 'lead', 'singer', 'of', 'r', 'b', 'girl', 'group', 'destiny', 's', 'child']\n",
      "['managed', 'by', 'her', 'father', 'mathew', 'knowles', 'the', 'group', 'became', 'one', 'of', 'the', 'world', 's', 'best', 'selling', 'girl', 'groups', 'of', 'all', 'time']\n",
      "['their', 'hiatus', 'saw', 'the', 'release', 'of', 'beyoncé', 's', 'debut', 'album', 'dangerously', 'in', 'love', '2003', 'which', 'established', 'her', 'as', 'a', 'solo', 'artist', 'worldwide', 'earned', 'five', 'grammy', 'awards', 'and', 'featured', 'the', 'billboard', 'hot', '100', 'number', 'one', 'singles', 'crazy', 'in', 'love', 'and', 'baby', 'boy']\n",
      "['following', 'the', 'disbandment', 'of', 'destiny', 's', 'child', 'in', 'june', '2005', 'she', 'released', 'her', 'second', 'solo', 'album', 'b', 'day', '2006', 'which', 'contained', 'hits', 'déjà', 'vu', 'irreplaceable', 'and', 'beautiful', 'liar']\n",
      "['beyoncé', 'also', 'ventured', 'into', 'acting', 'with', 'a', 'golden', 'globe', 'nominated', 'performance', 'in', 'dreamgirls', '2006', 'and', 'starring', 'roles', 'in', 'the', 'pink', 'panther', '2006', 'and', 'obsessed', '2009']\n",
      "['her', 'marriage', 'to', 'rapper', 'jay', 'z', 'and', 'portrayal', 'of', 'etta', 'james', 'in', 'cadillac', 'records', '2008', 'influenced', 'her', 'third', 'album', 'i', 'am']\n",
      "['sasha', 'fierce', '2008', 'which', 'saw', 'the', 'birth', 'of', 'her', 'alter', 'ego', 'sasha', 'fierce', 'and', 'earned', 'a', 'record', 'setting', 'six', 'grammy', 'awards', 'in', '2010', 'including', 'song', 'of', 'the', 'year', 'for', 'single', 'ladies', 'put', 'a', 'ring', 'on', 'it']\n",
      "['beyoncé', 'took', 'a', 'hiatus', 'from', 'music', 'in', '2010', 'and', 'took', 'over', 'management', 'of', 'her', 'career', 'her', 'fourth', 'album', '4', '2011', 'was', 'subsequently', 'mellower', 'in', 'tone', 'exploring', '1970s', 'funk', '1980s', 'pop', 'and', '1990s', 'soul']\n",
      "['her', 'critically', 'acclaimed', 'fifth', 'studio', 'album', 'beyoncé', '2013', 'was', 'distinguished', 'from', 'previous', 'releases', 'by', 'its', 'experimental', 'production', 'and', 'exploration', 'of', 'darker', 'themes']\n"
     ]
    }
   ],
   "source": [
    "#Data cleaning\n",
    "tokenized_sentences_par = [re.sub('\\W', ' ', sentence).lower().split() for sentence in sentences_par]\n",
    "tokenized_sentences_que = [re.sub('\\W', ' ', sentence).lower().split() for sentence in sentences_que]\n",
    "tokenized_sentences_ans = [re.sub('\\W', ' ', sentence).lower().split() for sentence in sentences_ans]\n",
    "# remove sentences that are only 1 word long\n",
    "tokenized_sentences_par = [sentence for sentence in tokenized_sentences_par if len(sentence) > 1]\n",
    "tokenized_sentences_que = [sentence for sentence in tokenized_sentences_que if len(sentence) > 1]\n",
    "tokenized_sentences_ans = [sentence for sentence in tokenized_sentences_ans if len(sentence) > 1]\n",
    "\n",
    "#Not sure if it is right or not (sentences all togheter)\n",
    "all_tokenized_sentences = tokenized_sentences_par + tokenized_sentences_que +tokenized_sentences_ans\n",
    "for sentence in all_tokenized_sentences[:10]:\n",
    "    print(sentence)"
   ]
  },
  {
   "cell_type": "code",
   "execution_count": 48,
   "metadata": {},
   "outputs": [
    {
     "name": "stdout",
     "output_type": "stream",
     "text": [
      "Vocabulary Length: 84893\n",
      "['beyoncé', 'giselle', 'knowles', 'carter', 'biːˈjɒnseɪ', 'bee', 'yon', 'say', 'born', 'september', '4', '1981', 'is', 'an', 'american', 'singer', 'songwriter', 'record', 'producer', 'and', 'actress', 'born', 'and', 'raised', 'in', 'houston', 'texas', 'she', 'performed', 'in', 'various', 'singing', 'and', 'dancing', 'competitions', 'as', 'a', 'child', 'and', 'rose', 'to', 'fame', 'in', 'the', 'late', '1990s', 'as', 'lead', 'singer', 'of', 'r', 'b', 'girl', 'group', 'destiny', 's', 'child', 'managed', 'by', 'her', 'father', 'mathew', 'knowles', 'the', 'group', 'became', 'one', 'of', 'the', 'world', 's', 'best', 'selling', 'girl', 'groups', 'of', 'all', 'time', 'their', 'hiatus', 'saw', 'the', 'release', 'of', 'beyoncé', 's', 'debut', 'album', 'dangerously', 'in', 'love', '2003', 'which', 'established', 'her', 'as', 'a', 'solo', 'artist', 'worldwide']\n"
     ]
    }
   ],
   "source": [
    "all_words = [word for sentence in all_tokenized_sentences for word in sentence]\n",
    "\n",
    "\n",
    "# Create a set to get unique words\n",
    "unique_words = set(all_words)\n",
    "\n",
    "# Get the length of the vocabulary\n",
    "vocab_length = len(unique_words)\n",
    "\n",
    "# Print the length of the vocabulary\n",
    "print(\"Vocabulary Length:\", vocab_length)\n",
    "print(all_words[:100])"
   ]
  },
  {
   "cell_type": "code",
   "execution_count": 49,
   "metadata": {},
   "outputs": [
    {
     "data": {
      "text/plain": [
       "Text(0, 0.5, 'Frequency')"
      ]
     },
     "execution_count": 49,
     "metadata": {},
     "output_type": "execute_result"
    },
    {
     "data": {
      "image/png": "[encoded data removed]",
      "text/plain": [
       "<Figure size 1200x600 with 1 Axes>"
      ]
     },
     "metadata": {},
     "output_type": "display_data"
    }
   ],
   "source": [
    "import matplotlib.pyplot as plt\n",
    "\n",
    "# Document lengths\n",
    "document_lengths_par = [len(sentence) for sentence in tokenized_sentences_par]\n",
    "document_lengths_que = [len(sentence) for sentence in tokenized_sentences_que]\n",
    "document_lengths_ans = [len(sentence) for sentence in tokenized_sentences_ans]\n",
    "\n",
    "# Combine all document lengths into a single list\n",
    "all_document_lengths = document_lengths_par + document_lengths_que + document_lengths_ans\n",
    "\n",
    "# Plot histograms\n",
    "plt.figure(figsize=(12, 6))\n",
    "\n",
    "#plt.subplot(1, 2, 1)\n",
    "plt.hist(all_document_lengths, bins=30, color='blue', alpha=0.7)\n",
    "plt.title('Distribution of Document Lengths')\n",
    "plt.xlabel('Document Length')\n",
    "plt.ylabel('Frequency')\n",
    "\n",
    "\n"
   ]
  },
  {
   "cell_type": "markdown",
   "metadata": {},
   "source": [
    "### Embedding\n"
   ]
  },
  {
   "cell_type": "code",
   "execution_count": 50,
   "metadata": {},
   "outputs": [],
   "source": [
    "from gensim.models.word2vec import Word2Vec\n",
    "#parameter equal to the class exampale no really a choice\n",
    "model_par = Word2Vec(tokenized_sentences_par, vector_size=30, min_count=5, window=10)\n",
    "model_que = Word2Vec(tokenized_sentences_que, vector_size=30, min_count=5, window=10)\n",
    "model_ans = Word2Vec(tokenized_sentences_ans, vector_size=30, min_count=5, window=10)\n",
    "\n",
    "#embedding for the full model\n",
    "model_all = Word2Vec(all_tokenized_sentences,vector_size=30,min_count=5,window=10)"
   ]
  },
  {
   "cell_type": "code",
   "execution_count": 51,
   "metadata": {},
   "outputs": [
    {
     "name": "stdout",
     "output_type": "stream",
     "text": [
      "23368\n",
      "13829\n",
      "6987\n",
      "Full model \n",
      " 30852\n"
     ]
    }
   ],
   "source": [
    "#vocabolary used by Word2Vec:\n",
    "print(len(model_par.wv))\n",
    "print(len(model_que.wv))\n",
    "print(len(model_ans.wv))\n",
    "print(\"Full model \\n\",len(model_all.wv))"
   ]
  },
  {
   "cell_type": "code",
   "execution_count": 52,
   "metadata": {},
   "outputs": [
    {
     "data": {
      "text/plain": [
       "[('beyoncé', 0.9600003361701965),\n",
       " ('madonna', 0.8890235424041748),\n",
       " ('spielberg', 0.8684608936309814),\n",
       " ('destiny', 0.8523126244544983),\n",
       " ('kanye', 0.8362398147583008),\n",
       " ('frédéric', 0.8271802663803101),\n",
       " ('solo', 0.808822512626648),\n",
       " ('lee', 0.8002068400382996),\n",
       " ('spectre', 0.7930472493171692),\n",
       " ('jay', 0.7910757064819336)]"
      ]
     },
     "execution_count": 52,
     "metadata": {},
     "output_type": "execute_result"
    }
   ],
   "source": [
    "#random tests\n",
    "term = 'beyonce'\n",
    "model_all.wv.most_similar(term)"
   ]
  },
  {
   "cell_type": "markdown",
   "metadata": {},
   "source": [
    "Visualitation"
   ]
  },
  {
   "cell_type": "code",
   "execution_count": 53,
   "metadata": {},
   "outputs": [
    {
     "data": {
      "text/plain": [
       "array([[-1.9376743 ,  0.7917213 , -0.19664666, ...,  0.6438831 ,\n",
       "         0.42724434,  1.7283078 ],\n",
       "       [ 0.03241621, -0.16885808,  0.22331363, ...,  0.15297389,\n",
       "        -0.10847785, -0.0413839 ],\n",
       "       [ 0.11418184,  0.13220303, -0.08734821, ...,  0.09598716,\n",
       "        -0.2082948 , -0.24346092],\n",
       "       ...,\n",
       "       [-0.08839546,  0.07556573,  0.3543638 , ...,  0.21268088,\n",
       "        -0.13115779, -0.21433584],\n",
       "       [ 0.3300284 ,  0.03288621,  0.65967643, ...,  0.19404438,\n",
       "        -0.1997064 , -0.2888279 ],\n",
       "       [-0.00942367, -0.06469376,  0.08609605, ...,  0.14654107,\n",
       "        -0.21067578, -0.09083981]], dtype=float32)"
      ]
     },
     "execution_count": 53,
     "metadata": {},
     "output_type": "execute_result"
    }
   ],
   "source": [
    "import random\n",
    "\n",
    "sample = random.sample(list(model_all.wv.key_to_index), 500)\n",
    "word_vectors = model_all.wv[sample]\n",
    "word_vectors"
   ]
  },
  {
   "cell_type": "code",
   "execution_count": 54,
   "metadata": {},
   "outputs": [],
   "source": [
    "\n",
    "from sklearn.manifold import TSNE\n",
    "import numpy as np\n",
    "import plotly.express as px\n",
    "\n",
    "tsne = TSNE(n_components=3, n_iter=2000)\n",
    "tsne_embedding = tsne.fit_transform(word_vectors);\n"
   ]
  },
  {
   "cell_type": "code",
   "execution_count": 55,
   "metadata": {},
   "outputs": [
    {
     "data": {
      "application/vnd.plotly.v1+json": {
       "config": {
        "plotlyServerURL": "https://plot.ly"
       },
       "data": [
        {
         "hovertemplate": "x=%{x}<br>y=%{y}<br>z=%{z}<br>text=%{text}<extra></extra>",
         "legendgroup": "",
         "marker": {
          "color": "#636efa",
          "line": {
           "width": 2
          },
          "size": 3,
          "symbol": "circle"
         },
         "mode": "markers+text",
         "name": "",
         "scene": "scene",
         "showlegend": false,
         "text": [
          "testing",
          "ethno",
          "psychiatric",
          "instigated",
          "resistors",
          "include",
          "emblematic",
          "259",
          "1185",
          "changsha",
          "sani",
          "bioprospecting",
          "solvay",
          "wooster",
          "monochrome",
          "ambiguity",
          "worthless",
          "pashupatinath",
          "valid",
          "denying",
          "climb",
          "jaguar",
          "plenty",
          "brunswick",
          "treacherous",
          "866",
          "balfour",
          "improve",
          "ak",
          "coordinate",
          "reputed",
          "scholar",
          "wolf",
          "almond",
          "bears",
          "unconscious",
          "dispatched",
          "interactive",
          "struggling",
          "nazi",
          "spirits",
          "horse",
          "reservoirs",
          "plus",
          "saaremaa",
          "parentage",
          "orpheus",
          "ejection",
          "ur",
          "springs",
          "showings",
          "abrams",
          "deflationary",
          "festive",
          "quran",
          "1820",
          "lobbied",
          "candles",
          "egalitarianism",
          "waldorf",
          "appreciation",
          "lexington",
          "website",
          "judicial",
          "charlemagne",
          "92",
          "pentecostalism",
          "asexual",
          "digitally",
          "stunted",
          "shahinyan",
          "southern",
          "troubled",
          "practiced",
          "plutarch",
          "miami",
          "bradford",
          "spalding",
          "okl",
          "ps4",
          "alcohol",
          "bombs",
          "pads",
          "scan",
          "terabytes",
          "diploid",
          "compaq",
          "stepped",
          "initially",
          "darlan",
          "day",
          "northwest",
          "reginald",
          "90",
          "sleet",
          "bligh",
          "rhodes",
          "kerala",
          "challenged",
          "accomplishment",
          "barrio",
          "formations",
          "neutralize",
          "890",
          "mystic",
          "realschulen",
          "bash",
          "signaled",
          "purification",
          "sadp",
          "fuelled",
          "books",
          "memphis",
          "abortions",
          "pad",
          "keystone",
          "parapodia",
          "pharmaceuticals",
          "389",
          "malpractice",
          "guangxi",
          "hamiltonian",
          "camp",
          "lenis",
          "radiator",
          "additional",
          "capitalize",
          "citizen",
          "catholicism",
          "twin",
          "steppe",
          "lagoon",
          "nineteen",
          "ticks",
          "g7",
          "gerry",
          "bt",
          "birla",
          "leaking",
          "southerners",
          "plym",
          "navarre",
          "takes",
          "bartley",
          "commended",
          "penalized",
          "rewarding",
          "prostaglandins",
          "v2",
          "ruth",
          "3g",
          "alleles",
          "symbolic",
          "toba",
          "circle",
          "431",
          "collateralized",
          "rushed",
          "reflective",
          "notice",
          "restrained",
          "hallmarks",
          "underpinnings",
          "put",
          "farmland",
          "aristocratic",
          "sink",
          "156",
          "peel",
          "incorporate",
          "nominees",
          "pietism",
          "fever",
          "crew",
          "610",
          "heikal",
          "bend",
          "description",
          "edgar",
          "secretions",
          "skirt",
          "anabaptists",
          "evacuees",
          "mama",
          "brewing",
          "esteem",
          "1943",
          "palacio",
          "gci",
          "viewer",
          "jalloud",
          "capability",
          "concentrate",
          "collapses",
          "counterfeit",
          "world",
          "modifiers",
          "nois",
          "denmark",
          "practical"
         ],
         "textfont": {
          "size": 10
         },
         "type": "scatter3d",
         "x": [
          -40.07834243774414,
          21.868284225463867,
          3.0909423828125,
          -22.457012176513672,
          -18.08146095275879,
          -34.83567810058594,
          22.159517288208008,
          36.47303771972656,
          30.646013259887695,
          28.840633392333984,
          32.42367172241211,
          37.42743682861328,
          15.751309394836426,
          2.8264002799987793,
          5.495029449462891,
          -18.311845779418945,
          13.7495756149292,
          -17.00896453857422,
          -29.14472007751465,
          0.5316827893257141,
          17.282821655273438,
          -6.397871494293213,
          3.4073712825775146,
          6.098559379577637,
          25.8395938873291,
          31.150930404663086,
          7.989014625549316,
          -34.05116653442383,
          6.256900310516357,
          -27.418880462646484,
          -1.6689029932022095,
          -33.22838592529297,
          -10.799651145935059,
          6.75084924697876,
          -5.782049655914307,
          -22.43246841430664,
          -24.76618194580078,
          -8.221617698669434,
          14.735183715820312,
          -21.51785659790039,
          -19.632404327392578,
          -13.091385841369629,
          -15.550861358642578,
          -26.523082733154297,
          -2.5670084953308105,
          13.941850662231445,
          26.391048431396484,
          21.90623664855957,
          6.783182144165039,
          -10.112075805664062,
          24.360532760620117,
          6.343650817871094,
          39.624698638916016,
          23.238067626953125,
          -37.737491607666016,
          -12.593186378479004,
          -6.859995365142822,
          -6.14423942565918,
          -23.52130889892578,
          -10.207347869873047,
          -10.799962997436523,
          -1.8903417587280273,
          -30.15597915649414,
          -17.339008331298828,
          -5.449769020080566,
          -21.6569766998291,
          21.579927444458008,
          -20.621370315551758,
          -14.3826904296875,
          33.297767639160156,
          25.53232192993164,
          -2.4473001956939697,
          -0.4409780204296112,
          -27.931638717651367,
          32.04684066772461,
          -1.939954400062561,
          27.114641189575195,
          0.9760310649871826,
          -4.785986423492432,
          -18.953231811523438,
          -33.38712692260742,
          -18.308319091796875,
          -4.302621364593506,
          -17.70020866394043,
          34.779815673828125,
          -20.651147842407227,
          3.7244269847869873,
          -18.684967041015625,
          -3.459800958633423,
          30.999588012695312,
          -19.21601676940918,
          -4.175626754760742,
          11.38357925415039,
          -19.53059959411621,
          35.95462417602539,
          15.018221855163574,
          -10.584890365600586,
          -11.381484985351562,
          -28.37986183166504,
          -9.22462272644043,
          10.28764533996582,
          -11.015665054321289,
          11.082478523254395,
          23.890501022338867,
          11.903886795043945,
          0.6677886247634888,
          18.37958335876465,
          -23.590940475463867,
          -23.993444442749023,
          8.775689125061035,
          3.328490972518921,
          -31.322982788085938,
          2.7527530193328857,
          11.585078239440918,
          -12.495977401733398,
          -1.54462468624115,
          -15.022937774658203,
          -25.42563247680664,
          30.148942947387695,
          23.22595977783203,
          31.92190170288086,
          12.574584007263184,
          0.9847082495689392,
          34.66017532348633,
          -2.819871187210083,
          -29.782703399658203,
          11.211274147033691,
          -0.5240106582641602,
          -26.461000442504883,
          -7.774432182312012,
          -9.971732139587402,
          -8.460243225097656,
          15.984063148498535,
          -6.805143356323242,
          24.176368713378906,
          16.849220275878906,
          -22.534360885620117,
          -0.3689088225364685,
          4.171510219573975,
          35.52021789550781,
          2.981963634490967,
          4.811472415924072,
          -13.316659927368164,
          30.975893020629883,
          7.70977258682251,
          37.41232681274414,
          12.969773292541504,
          15.94087028503418,
          20.363170623779297,
          -5.795400142669678,
          -15.599053382873535,
          -27.233972549438477,
          -26.837329864501953,
          20.14237403869629,
          -8.300168991088867,
          2.3238327503204346,
          5.09734582901001,
          7.883121490478516,
          -26.7475643157959,
          -22.936134338378906,
          2.837996482849121,
          20.129322052001953,
          40.768375396728516,
          -21.495805740356445,
          12.63427734375,
          -22.431217193603516,
          -15.465497970581055,
          28.304859161376953,
          -7.0464935302734375,
          -29.841096878051758,
          26.612268447875977,
          28.39215660095215,
          -17.370281219482422,
          -18.728078842163086,
          -18.96299171447754,
          21.478586196899414,
          8.286828994750977,
          -35.84316635131836,
          -5.275538921356201,
          -15.39208698272705,
          13.972387313842773,
          -18.9385986328125,
          17.55544662475586,
          -8.153698921203613,
          -14.037750244140625,
          -27.886871337890625,
          -19.80352783203125,
          2.6414382457733154,
          29.548236846923828,
          -18.276325225830078,
          34.55982208251953,
          -31.208106994628906,
          -24.83260726928711,
          5.065735816955566,
          25.625816345214844,
          -32.97590637207031,
          30.32952308654785,
          13.73714542388916,
          -20.0362606048584,
          -40.99911880493164
         ],
         "y": [
          15.599778175354004,
          29.270631790161133,
          -15.696138381958008,
          -6.088756561279297,
          14.769893646240234,
          0.4455660879611969,
          19.534900665283203,
          -1.424994945526123,
          4.9380950927734375,
          -4.845213413238525,
          0.7455909252166748,
          9.44212532043457,
          3.347482204437256,
          -23.59380531311035,
          13.385943412780762,
          0.6699196696281433,
          5.446619033813477,
          -24.989877700805664,
          0.8433188199996948,
          10.936342239379883,
          9.281670570373535,
          -2.1456480026245117,
          -1.7067675590515137,
          -33.68732452392578,
          3.587892770767212,
          28.104949951171875,
          -11.262124061584473,
          13.751901626586914,
          -1.7380716800689697,
          6.879998207092285,
          -0.2725345194339752,
          -12.376293182373047,
          -3.3894219398498535,
          -7.940098762512207,
          3.759126663208008,
          3.7510297298431396,
          -15.717022895812988,
          -11.621635437011719,
          22.709266662597656,
          -20.233945846557617,
          8.716070175170898,
          -36.539512634277344,
          5.253212928771973,
          23.208431243896484,
          -26.671401977539062,
          5.729191303253174,
          3.261927843093872,
          -2.2641661167144775,
          -18.861228942871094,
          -33.38471603393555,
          -9.768474578857422,
          -6.183302879333496,
          1.7193127870559692,
          4.527055740356445,
          -10.91726303100586,
          -12.084738731384277,
          5.833293437957764,
          6.379161834716797,
          -12.945703506469727,
          -6.451092720031738,
          0.3283523917198181,
          -34.400001525878906,
          33.57450866699219,
          9.30046558380127,
          -6.325084686279297,
          15.09877872467041,
          21.02165985107422,
          5.675202369689941,
          25.82343864440918,
          9.273429870605469,
          -15.506792068481445,
          -43.993648529052734,
          23.765174865722656,
          -22.03632926940918,
          -0.7966805696487427,
          -46.3298454284668,
          0.10186675190925598,
          -8.417691230773926,
          4.571038246154785,
          26.463851928710938,
          16.376094818115234,
          21.048770904541016,
          13.53832721710205,
          20.571470260620117,
          -14.438385009765625,
          11.09234619140625,
          -10.71965217590332,
          -11.572773933410645,
          4.311607837677002,
          5.461925983428955,
          36.53947448730469,
          -42.8388786315918,
          -7.1662750244140625,
          20.952239990234375,
          -9.599479675292969,
          1.0360667705535889,
          -8.342620849609375,
          -19.265539169311523,
          -10.12231731414795,
          -5.289771556854248,
          -25.670883178710938,
          -8.904563903808594,
          27.85675621032715,
          -0.5568014979362488,
          1.1335400342941284,
          -7.313796043395996,
          -19.760251998901367,
          -7.639091491699219,
          -0.17654410004615784,
          6.162271499633789,
          23.265270233154297,
          -9.180047035217285,
          -31.867321014404297,
          22.239599227905273,
          28.942644119262695,
          16.956153869628906,
          -3.322934865951538,
          8.965339660644531,
          5.756407737731934,
          -15.039301872253418,
          -8.578882217407227,
          7.2386980056762695,
          -34.69554901123047,
          22.246793746948242,
          17.16431999206543,
          19.183855056762695,
          -5.637699604034424,
          7.496022701263428,
          -20.73956871032715,
          -24.967132568359375,
          -36.12272644042969,
          -30.477237701416016,
          -1.4844845533370972,
          4.545373916625977,
          10.24722957611084,
          -10.73807430267334,
          19.54195785522461,
          -17.823022842407227,
          11.81807804107666,
          7.506917953491211,
          -31.680015563964844,
          -22.423137664794922,
          15.723530769348145,
          2.642475128173828,
          -0.6741389036178589,
          -15.629029273986816,
          13.517312049865723,
          -13.096236228942871,
          2.148608922958374,
          -18.45833969116211,
          31.961181640625,
          10.541706085205078,
          -5.443001747131348,
          -6.783483982086182,
          -32.27241516113281,
          -23.913494110107422,
          30.43918228149414,
          15.04052448272705,
          21.607919692993164,
          29.31901741027832,
          5.238384246826172,
          17.974279403686523,
          15.139867782592773,
          -6.291483402252197,
          25.747783660888672,
          -18.062538146972656,
          9.595183372497559,
          -15.289549827575684,
          -26.95623207092285,
          1.6297712326049805,
          -9.58597183227539,
          22.28521728515625,
          12.815632820129395,
          24.301347732543945,
          10.623616218566895,
          -0.8237398266792297,
          -27.38507080078125,
          1.6021637916564941,
          -23.80924415588379,
          9.727703094482422,
          3.886387825012207,
          -11.950638771057129,
          12.609527587890625,
          -10.653083801269531,
          27.084102630615234,
          -0.22848349809646606,
          -12.288532257080078,
          -34.72904586791992,
          7.232138156890869,
          0.9436816573143005,
          -3.5167148113250732,
          17.74343490600586,
          0.006139364093542099,
          0.2653694748878479,
          12.501873016357422,
          10.387395858764648,
          14.282074928283691,
          20.165098190307617,
          -24.575660705566406,
          9.661001205444336
         ],
         "z": [
          10.366460800170898,
          -7.345373153686523,
          11.01439094543457,
          -7.934536457061768,
          13.961112022399902,
          1.1182286739349365,
          -15.365549087524414,
          17.068058013916016,
          -17.57083511352539,
          6.989113807678223,
          -3.0871753692626953,
          6.34859037399292,
          -6.821537494659424,
          4.173060894012451,
          4.133341312408447,
          11.070076942443848,
          4.062281608581543,
          -1.5581618547439575,
          13.892043113708496,
          24.32918357849121,
          20.074026107788086,
          -1.5638375282287598,
          22.26624298095703,
          -15.962686538696289,
          -5.6558380126953125,
          -5.8199944496154785,
          -21.659643173217773,
          -1.2922409772872925,
          0.20176531374454498,
          -2.187455177307129,
          3.883521318435669,
          1.672755241394043,
          31.886281967163086,
          1.265105962753296,
          28.68533706665039,
          25.36693572998047,
          -18.07774543762207,
          9.924232482910156,
          -12.048104286193848,
          -27.6683406829834,
          27.366308212280273,
          13.263476371765137,
          -9.063697814941406,
          -5.088119029998779,
          -6.682084560394287,
          -30.06760597229004,
          -12.367822647094727,
          3.1906256675720215,
          -29.290470123291016,
          8.059162139892578,
          1.4029921293258667,
          -14.87949275970459,
          2.504290819168091,
          24.388418197631836,
          5.876284599304199,
          -31.57535171508789,
          -12.167268753051758,
          9.362503051757812,
          17.340970993041992,
          1.2532979249954224,
          -21.464588165283203,
          8.308510780334473,
          1.4724968671798706,
          -33.75408172607422,
          -30.560115814208984,
          -18.73493003845215,
          -2.0326716899871826,
          20.308557510375977,
          7.9683051109313965,
          18.339839935302734,
          1.9509373903274536,
          -3.5454468727111816,
          14.495404243469238,
          12.618964195251465,
          -12.96458625793457,
          6.556587219238281,
          -1.92607843875885,
          -11.675552368164062,
          -33.210777282714844,
          -0.5318118929862976,
          17.475080490112305,
          -12.536869049072266,
          16.069385528564453,
          10.83011245727539,
          0.5356065034866333,
          19.341943740844727,
          17.858564376831055,
          -20.73232650756836,
          -38.6875,
          -23.150537490844727,
          -16.24766731262207,
          1.063938856124878,
          -10.143688201904297,
          -18.625564575195312,
          17.682199478149414,
          13.299689292907715,
          -28.413732528686523,
          3.8031351566314697,
          -0.7291854023933411,
          -19.78304100036621,
          -4.097996234893799,
          24.215784072875977,
          4.003458499908447,
          16.548419952392578,
          -12.923272132873535,
          1.6820262670516968,
          2.196340322494507,
          -2.5428428649902344,
          29.018339157104492,
          -4.102287292480469,
          -3.650402545928955,
          8.37566089630127,
          6.717864036560059,
          1.769447922706604,
          0.8053122758865356,
          -1.125839114189148,
          15.033794403076172,
          -6.407602310180664,
          16.360258102416992,
          10.848803520202637,
          9.169992446899414,
          -12.259876251220703,
          -19.297836303710938,
          6.111206531524658,
          7.848613262176514,
          -7.130403995513916,
          15.318947792053223,
          -31.404441833496094,
          -1.7021336555480957,
          9.960630416870117,
          -3.9543356895446777,
          -0.04185732081532478,
          21.818912506103516,
          16.6662540435791,
          -22.12932777404785,
          -5.243519306182861,
          0.2767530381679535,
          6.283388137817383,
          16.253938674926758,
          -10.105270385742188,
          -3.814704418182373,
          -9.968055725097656,
          31.743520736694336,
          -8.326693534851074,
          -7.503016471862793,
          5.725589275360107,
          -7.578950881958008,
          17.903520584106445,
          11.441678047180176,
          -9.396174430847168,
          -3.114698886871338,
          19.652769088745117,
          26.207191467285156,
          12.809432983398438,
          13.833422660827637,
          -19.41327476501465,
          6.607248783111572,
          -2.934117078781128,
          17.696407318115234,
          10.484121322631836,
          3.426450490951538,
          -10.333423614501953,
          0.47513797879219055,
          -17.785221099853516,
          13.952630996704102,
          2.753957509994507,
          3.6753756999969482,
          14.943394660949707,
          -17.9468994140625,
          1.3641194105148315,
          -13.774788856506348,
          -9.360527038574219,
          -2.5550172328948975,
          -8.40115737915039,
          -18.27433204650879,
          -6.110166072845459,
          1.6739774942398071,
          23.324844360351562,
          -14.417738914489746,
          13.616169929504395,
          18.19655990600586,
          3.8881871700286865,
          3.7073304653167725,
          -5.819790840148926,
          18.766075134277344,
          22.28782081604004,
          -36.724117279052734,
          13.921689987182617,
          6.203497409820557,
          20.870738983154297,
          -6.515159606933594,
          3.313481092453003,
          4.561859130859375,
          16.418994903564453,
          2.319317579269409,
          -21.193614959716797,
          11.610815048217773,
          -4.327055931091309,
          -22.827919006347656,
          14.791226387023926
         ]
        }
       ],
       "layout": {
        "legend": {
         "tracegroupgap": 0
        },
        "margin": {
         "t": 60
        },
        "scene": {
         "domain": {
          "x": [
           0,
           1
          ],
          "y": [
           0,
           1
          ]
         },
         "xaxis": {
          "title": {
           "text": "x"
          }
         },
         "yaxis": {
          "title": {
           "text": "y"
          }
         },
         "zaxis": {
          "title": {
           "text": "z"
          }
         }
        },
        "template": {
         "data": {
          "bar": [
           {
            "error_x": {
             "color": "#2a3f5f"
            },
            "error_y": {
             "color": "#2a3f5f"
            },
            "marker": {
             "line": {
              "color": "#E5ECF6",
              "width": 0.5
             },
             "pattern": {
              "fillmode": "overlay",
              "size": 10,
              "solidity": 0.2
             }
            },
            "type": "bar"
           }
          ],
          "barpolar": [
           {
            "marker": {
             "line": {
              "color": "#E5ECF6",
              "width": 0.5
             },
             "pattern": {
              "fillmode": "overlay",
              "size": 10,
              "solidity": 0.2
             }
            },
            "type": "barpolar"
           }
          ],
          "carpet": [
           {
            "aaxis": {
             "endlinecolor": "#2a3f5f",
             "gridcolor": "white",
             "linecolor": "white",
             "minorgridcolor": "white",
             "startlinecolor": "#2a3f5f"
            },
            "baxis": {
             "endlinecolor": "#2a3f5f",
             "gridcolor": "white",
             "linecolor": "white",
             "minorgridcolor": "white",
             "startlinecolor": "#2a3f5f"
            },
            "type": "carpet"
           }
          ],
          "choropleth": [
           {
            "colorbar": {
             "outlinewidth": 0,
             "ticks": ""
            },
            "type": "choropleth"
           }
          ],
          "contour": [
           {
            "colorbar": {
             "outlinewidth": 0,
             "ticks": ""
            },
            "colorscale": [
             [
              0,
              "#0d0887"
             ],
             [
              0.1111111111111111,
              "#46039f"
             ],
             [
              0.2222222222222222,
              "#7201a8"
             ],
             [
              0.3333333333333333,
              "#9c179e"
             ],
             [
              0.4444444444444444,
              "#bd3786"
             ],
             [
              0.5555555555555556,
              "#d8576b"
             ],
             [
              0.6666666666666666,
              "#ed7953"
             ],
             [
              0.7777777777777778,
              "#fb9f3a"
             ],
             [
              0.8888888888888888,
              "#fdca26"
             ],
             [
              1,
              "#f0f921"
             ]
            ],
            "type": "contour"
           }
          ],
          "contourcarpet": [
           {
            "colorbar": {
             "outlinewidth": 0,
             "ticks": ""
            },
            "type": "contourcarpet"
           }
          ],
          "heatmap": [
           {
            "colorbar": {
             "outlinewidth": 0,
             "ticks": ""
            },
            "colorscale": [
             [
              0,
              "#0d0887"
             ],
             [
              0.1111111111111111,
              "#46039f"
             ],
             [
              0.2222222222222222,
              "#7201a8"
             ],
             [
              0.3333333333333333,
              "#9c179e"
             ],
             [
              0.4444444444444444,
              "#bd3786"
             ],
             [
              0.5555555555555556,
              "#d8576b"
             ],
             [
              0.6666666666666666,
              "#ed7953"
             ],
             [
              0.7777777777777778,
              "#fb9f3a"
             ],
             [
              0.8888888888888888,
              "#fdca26"
             ],
             [
              1,
              "#f0f921"
             ]
            ],
            "type": "heatmap"
           }
          ],
          "heatmapgl": [
           {
            "colorbar": {
             "outlinewidth": 0,
             "ticks": ""
            },
            "colorscale": [
             [
              0,
              "#0d0887"
             ],
             [
              0.1111111111111111,
              "#46039f"
             ],
             [
              0.2222222222222222,
              "#7201a8"
             ],
             [
              0.3333333333333333,
              "#9c179e"
             ],
             [
              0.4444444444444444,
              "#bd3786"
             ],
             [
              0.5555555555555556,
              "#d8576b"
             ],
             [
              0.6666666666666666,
              "#ed7953"
             ],
             [
              0.7777777777777778,
              "#fb9f3a"
             ],
             [
              0.8888888888888888,
              "#fdca26"
             ],
             [
              1,
              "#f0f921"
             ]
            ],
            "type": "heatmapgl"
           }
          ],
          "histogram": [
           {
            "marker": {
             "pattern": {
              "fillmode": "overlay",
              "size": 10,
              "solidity": 0.2
             }
            },
            "type": "histogram"
           }
          ],
          "histogram2d": [
           {
            "colorbar": {
             "outlinewidth": 0,
             "ticks": ""
            },
            "colorscale": [
             [
              0,
              "#0d0887"
             ],
             [
              0.1111111111111111,
              "#46039f"
             ],
             [
              0.2222222222222222,
              "#7201a8"
             ],
             [
              0.3333333333333333,
              "#9c179e"
             ],
             [
              0.4444444444444444,
              "#bd3786"
             ],
             [
              0.5555555555555556,
              "#d8576b"
             ],
             [
              0.6666666666666666,
              "#ed7953"
             ],
             [
              0.7777777777777778,
              "#fb9f3a"
             ],
             [
              0.8888888888888888,
              "#fdca26"
             ],
             [
              1,
              "#f0f921"
             ]
            ],
            "type": "histogram2d"
           }
          ],
          "histogram2dcontour": [
           {
            "colorbar": {
             "outlinewidth": 0,
             "ticks": ""
            },
            "colorscale": [
             [
              0,
              "#0d0887"
             ],
             [
              0.1111111111111111,
              "#46039f"
             ],
             [
              0.2222222222222222,
              "#7201a8"
             ],
             [
              0.3333333333333333,
              "#9c179e"
             ],
             [
              0.4444444444444444,
              "#bd3786"
             ],
             [
              0.5555555555555556,
              "#d8576b"
             ],
             [
              0.6666666666666666,
              "#ed7953"
             ],
             [
              0.7777777777777778,
              "#fb9f3a"
             ],
             [
              0.8888888888888888,
              "#fdca26"
             ],
             [
              1,
              "#f0f921"
             ]
            ],
            "type": "histogram2dcontour"
           }
          ],
          "mesh3d": [
           {
            "colorbar": {
             "outlinewidth": 0,
             "ticks": ""
            },
            "type": "mesh3d"
           }
          ],
          "parcoords": [
           {
            "line": {
             "colorbar": {
              "outlinewidth": 0,
              "ticks": ""
             }
            },
            "type": "parcoords"
           }
          ],
          "pie": [
           {
            "automargin": true,
            "type": "pie"
           }
          ],
          "scatter": [
           {
            "fillpattern": {
             "fillmode": "overlay",
             "size": 10,
             "solidity": 0.2
            },
            "type": "scatter"
           }
          ],
          "scatter3d": [
           {
            "line": {
             "colorbar": {
              "outlinewidth": 0,
              "ticks": ""
             }
            },
            "marker": {
             "colorbar": {
              "outlinewidth": 0,
              "ticks": ""
             }
            },
            "type": "scatter3d"
           }
          ],
          "scattercarpet": [
           {
            "marker": {
             "colorbar": {
              "outlinewidth": 0,
              "ticks": ""
             }
            },
            "type": "scattercarpet"
           }
          ],
          "scattergeo": [
           {
            "marker": {
             "colorbar": {
              "outlinewidth": 0,
              "ticks": ""
             }
            },
            "type": "scattergeo"
           }
          ],
          "scattergl": [
           {
            "marker": {
             "colorbar": {
              "outlinewidth": 0,
              "ticks": ""
             }
            },
            "type": "scattergl"
           }
          ],
          "scattermapbox": [
           {
            "marker": {
             "colorbar": {
              "outlinewidth": 0,
              "ticks": ""
             }
            },
            "type": "scattermapbox"
           }
          ],
          "scatterpolar": [
           {
            "marker": {
             "colorbar": {
              "outlinewidth": 0,
              "ticks": ""
             }
            },
            "type": "scatterpolar"
           }
          ],
          "scatterpolargl": [
           {
            "marker": {
             "colorbar": {
              "outlinewidth": 0,
              "ticks": ""
             }
            },
            "type": "scatterpolargl"
           }
          ],
          "scatterternary": [
           {
            "marker": {
             "colorbar": {
              "outlinewidth": 0,
              "ticks": ""
             }
            },
            "type": "scatterternary"
           }
          ],
          "surface": [
           {
            "colorbar": {
             "outlinewidth": 0,
             "ticks": ""
            },
            "colorscale": [
             [
              0,
              "#0d0887"
             ],
             [
              0.1111111111111111,
              "#46039f"
             ],
             [
              0.2222222222222222,
              "#7201a8"
             ],
             [
              0.3333333333333333,
              "#9c179e"
             ],
             [
              0.4444444444444444,
              "#bd3786"
             ],
             [
              0.5555555555555556,
              "#d8576b"
             ],
             [
              0.6666666666666666,
              "#ed7953"
             ],
             [
              0.7777777777777778,
              "#fb9f3a"
             ],
             [
              0.8888888888888888,
              "#fdca26"
             ],
             [
              1,
              "#f0f921"
             ]
            ],
            "type": "surface"
           }
          ],
          "table": [
           {
            "cells": {
             "fill": {
              "color": "#EBF0F8"
             },
             "line": {
              "color": "white"
             }
            },
            "header": {
             "fill": {
              "color": "#C8D4E3"
             },
             "line": {
              "color": "white"
             }
            },
            "type": "table"
           }
          ]
         },
         "layout": {
          "annotationdefaults": {
           "arrowcolor": "#2a3f5f",
           "arrowhead": 0,
           "arrowwidth": 1
          },
          "autotypenumbers": "strict",
          "coloraxis": {
           "colorbar": {
            "outlinewidth": 0,
            "ticks": ""
           }
          },
          "colorscale": {
           "diverging": [
            [
             0,
             "#8e0152"
            ],
            [
             0.1,
             "#c51b7d"
            ],
            [
             0.2,
             "#de77ae"
            ],
            [
             0.3,
             "#f1b6da"
            ],
            [
             0.4,
             "#fde0ef"
            ],
            [
             0.5,
             "#f7f7f7"
            ],
            [
             0.6,
             "#e6f5d0"
            ],
            [
             0.7,
             "#b8e186"
            ],
            [
             0.8,
             "#7fbc41"
            ],
            [
             0.9,
             "#4d9221"
            ],
            [
             1,
             "#276419"
            ]
           ],
           "sequential": [
            [
             0,
             "#0d0887"
            ],
            [
             0.1111111111111111,
             "#46039f"
            ],
            [
             0.2222222222222222,
             "#7201a8"
            ],
            [
             0.3333333333333333,
             "#9c179e"
            ],
            [
             0.4444444444444444,
             "#bd3786"
            ],
            [
             0.5555555555555556,
             "#d8576b"
            ],
            [
             0.6666666666666666,
             "#ed7953"
            ],
            [
             0.7777777777777778,
             "#fb9f3a"
            ],
            [
             0.8888888888888888,
             "#fdca26"
            ],
            [
             1,
             "#f0f921"
            ]
           ],
           "sequentialminus": [
            [
             0,
             "#0d0887"
            ],
            [
             0.1111111111111111,
             "#46039f"
            ],
            [
             0.2222222222222222,
             "#7201a8"
            ],
            [
             0.3333333333333333,
             "#9c179e"
            ],
            [
             0.4444444444444444,
             "#bd3786"
            ],
            [
             0.5555555555555556,
             "#d8576b"
            ],
            [
             0.6666666666666666,
             "#ed7953"
            ],
            [
             0.7777777777777778,
             "#fb9f3a"
            ],
            [
             0.8888888888888888,
             "#fdca26"
            ],
            [
             1,
             "#f0f921"
            ]
           ]
          },
          "colorway": [
           "#636efa",
           "#EF553B",
           "#00cc96",
           "#ab63fa",
           "#FFA15A",
           "#19d3f3",
           "#FF6692",
           "#B6E880",
           "#FF97FF",
           "#FECB52"
          ],
          "font": {
           "color": "#2a3f5f"
          },
          "geo": {
           "bgcolor": "white",
           "lakecolor": "white",
           "landcolor": "#E5ECF6",
           "showlakes": true,
           "showland": true,
           "subunitcolor": "white"
          },
          "hoverlabel": {
           "align": "left"
          },
          "hovermode": "closest",
          "mapbox": {
           "style": "light"
          },
          "paper_bgcolor": "white",
          "plot_bgcolor": "#E5ECF6",
          "polar": {
           "angularaxis": {
            "gridcolor": "white",
            "linecolor": "white",
            "ticks": ""
           },
           "bgcolor": "#E5ECF6",
           "radialaxis": {
            "gridcolor": "white",
            "linecolor": "white",
            "ticks": ""
           }
          },
          "scene": {
           "xaxis": {
            "backgroundcolor": "#E5ECF6",
            "gridcolor": "white",
            "gridwidth": 2,
            "linecolor": "white",
            "showbackground": true,
            "ticks": "",
            "zerolinecolor": "white"
           },
           "yaxis": {
            "backgroundcolor": "#E5ECF6",
            "gridcolor": "white",
            "gridwidth": 2,
            "linecolor": "white",
            "showbackground": true,
            "ticks": "",
            "zerolinecolor": "white"
           },
           "zaxis": {
            "backgroundcolor": "#E5ECF6",
            "gridcolor": "white",
            "gridwidth": 2,
            "linecolor": "white",
            "showbackground": true,
            "ticks": "",
            "zerolinecolor": "white"
           }
          },
          "shapedefaults": {
           "line": {
            "color": "#2a3f5f"
           }
          },
          "ternary": {
           "aaxis": {
            "gridcolor": "white",
            "linecolor": "white",
            "ticks": ""
           },
           "baxis": {
            "gridcolor": "white",
            "linecolor": "white",
            "ticks": ""
           },
           "bgcolor": "#E5ECF6",
           "caxis": {
            "gridcolor": "white",
            "linecolor": "white",
            "ticks": ""
           }
          },
          "title": {
           "x": 0.05
          },
          "xaxis": {
           "automargin": true,
           "gridcolor": "white",
           "linecolor": "white",
           "ticks": "",
           "title": {
            "standoff": 15
           },
           "zerolinecolor": "white",
           "zerolinewidth": 2
          },
          "yaxis": {
           "automargin": true,
           "gridcolor": "white",
           "linecolor": "white",
           "ticks": "",
           "title": {
            "standoff": 15
           },
           "zerolinecolor": "white",
           "zerolinewidth": 2
          }
         }
        }
       }
      }
     },
     "metadata": {},
     "output_type": "display_data"
    }
   ],
   "source": [
    "x, y, z = np.transpose(tsne_embedding)\n",
    "fig = px.scatter_3d(x=x[:200],y=y[:200],z=z[:200],text=sample[:200])\n",
    "fig.update_traces(marker=dict(size=3,line=dict(width=2)),textfont_size=10)\n",
    "fig.show()"
   ]
  },
  {
   "cell_type": "code",
   "execution_count": 56,
   "metadata": {},
   "outputs": [],
   "source": [
    "from sentence_transformers import SentenceTransformer, CrossEncoder\n",
    "\n",
    "semb_model = SentenceTransformer('multi-qa-MiniLM-L6-cos-v1')\n",
    "xenc_model = CrossEncoder('cross-encoder/ms-marco-MiniLM-L-6-v2')"
   ]
  },
  {
   "cell_type": "code",
   "execution_count": 57,
   "metadata": {},
   "outputs": [
    {
     "name": "stdout",
     "output_type": "stream",
     "text": [
      "Loading embeddings cache\n"
     ]
    }
   ],
   "source": [
    "import os\n",
    "import pickle\n",
    "\n",
    "# Define hnswlib index path\n",
    "embeddings_cache_path = './qa_embeddings_cache.pkl'\n",
    "\n",
    "# Load cache if available\n",
    "if os.path.exists(embeddings_cache_path):\n",
    "    print('Loading embeddings cache')\n",
    "    with open(embeddings_cache_path, 'rb') as f:\n",
    "        corpus_embeddings = pickle.load(f)\n",
    "# Else compute embeddings\n",
    "else:\n",
    "    print('Computing embeddings')\n",
    "    corpus_embeddings = semb_model.encode(paragraphs, convert_to_tensor=True, show_progress_bar=True)\n",
    "    # Save the index to a file for future loading\n",
    "    print(f'Saving index to: \\'{embeddings_cache_path}\\'')\n",
    "    with open(embeddings_cache_path, 'wb') as f:\n",
    "        pickle.dump(corpus_embeddings, f)"
   ]
  },
  {
   "cell_type": "code",
   "execution_count": 58,
   "metadata": {},
   "outputs": [
    {
     "name": "stdout",
     "output_type": "stream",
     "text": [
      "Loading index...\n",
      "Exectution time: 0:0 min:sec\n"
     ]
    }
   ],
   "source": [
    "import os\n",
    "import hnswlib\n",
    "import time\n",
    "start = time.time()\n",
    "# Create empthy index\n",
    "index = hnswlib.Index(space='cosine', dim=corpus_embeddings.size(1))\n",
    "\n",
    "# Define hnswlib index path\n",
    "index_path = './qa_hnswlib_100.index'\n",
    "\n",
    "# Load index if available\n",
    "if os.path.exists(index_path):\n",
    "    print('Loading index...')\n",
    "    index.load_index(index_path)\n",
    "# Else index data collection\n",
    "else:\n",
    "    # Initialise the index\n",
    "    print('Start creating HNSWLIB index')\n",
    "    index.init_index(max_elements=corpus_embeddings.size(0), ef_construction=100, M=64) # see https://github.com/nmslib/hnswlib/blob/master/ALGO_PARAMS.md for parameter description\n",
    "    # Compute the HNSWLIB index (it may take a while)\n",
    "    index.add_items(corpus_embeddings.cpu(), list(range(len(corpus_embeddings))))\n",
    "    # Save the index to a file for future loading\n",
    "    print(f'Saving index to: {index_path}')\n",
    "    index.save_index(index_path)\n",
    "\n",
    "end = time.time()\n",
    "print(f\"Exectution time: {int((end - start) / 60)}:{int((end - start) % 60)} min:sec\")"
   ]
  },
  {
   "cell_type": "code",
   "execution_count": 59,
   "metadata": {},
   "outputs": [
    {
     "name": "stderr",
     "output_type": "stream",
     "text": [
      "Special tokens have been added in the vocabulary, make sure the associated word embeddings are fine-tuned or trained.\n",
      "WARNING:root:Some parameters are on the meta device device because they were offloaded to the cpu and disk.\n"
     ]
    }
   ],
   "source": [
    "import torch\n",
    "from transformers import T5Tokenizer, T5ForConditionalGeneration\n",
    "device = torch.device('cuda' if torch.cuda.is_available() else 'cpu')\n",
    "\n",
    "\n",
    "tokenizer = T5Tokenizer.from_pretrained(\"google/flan-t5-large\")\n",
    "model = T5ForConditionalGeneration.from_pretrained(\"google/flan-t5-large\", device_map=\"auto\", torch_dtype=torch.float32)"
   ]
  },
  {
   "cell_type": "code",
   "execution_count": 60,
   "metadata": {},
   "outputs": [
    {
     "name": "stdout",
     "output_type": "stream",
     "text": [
      "<pad> \"I love pizza\"</s>\n"
     ]
    }
   ],
   "source": [
    "\n",
    "\n",
    "input_text = 'Translate the following sentence from Italian to English: \"Amo la pizza\"'\n",
    "input_ids = tokenizer(input_text, return_tensors=\"pt\").input_ids.to(device)\n",
    "\n",
    "output_ids = model.generate(input_ids, max_new_tokens=32)\n",
    "output_text = tokenizer.decode(output_ids[0])\n",
    "print(output_text)\n",
    "\n",
    "\n"
   ]
  },
  {
   "cell_type": "code",
   "execution_count": 61,
   "metadata": {},
   "outputs": [],
   "source": [
    "def qa_pipeline(\n",
    "    question, print_flag,\n",
    "    similarity_model=semb_model,\n",
    "    embeddings_index=index,\n",
    "    re_ranking_model=xenc_model,\n",
    "    generative_model=model,\n",
    "    device=device\n",
    "):\n",
    "    if not question.endswith('?'):\n",
    "        question = question + '?'\n",
    "    # Embed question\n",
    "    question_embedding = similarity_model.encode(question, convert_to_tensor=True)\n",
    "    # Search documents similar to question in index\n",
    "    corpus_ids, distances = embeddings_index.knn_query(question_embedding.cpu(), k=64)\n",
    "    # Re-rank results\n",
    "    xenc_model_inputs = [(question, paragraphs[idx]) for idx in corpus_ids[0]]\n",
    "    cross_scores = re_ranking_model.predict(xenc_model_inputs)\n",
    "    # Get best matching passage\n",
    "    passage_idx = np.argsort(-cross_scores)[0]\n",
    "    passage = paragraphs[corpus_ids[0][passage_idx]]\n",
    "    # Encode input\n",
    "    input_text = f\"Given the following passage, answer the related question.\\n\\nPassage:\\n\\n{passage}\\n\\nQ: {question}\"\n",
    "    if print_flag:\n",
    "        print('INPUT TEXT:', input_text, \"\\n\")\n",
    "    input_ids = tokenizer(input_text, return_tensors=\"pt\").input_ids.to(device)\n",
    "    # Generate output\n",
    "    output_ids = generative_model.generate(input_ids, max_new_tokens=512)\n",
    "    # Decode output\n",
    "    output_text = tokenizer.decode(output_ids[0], skip_special_tokens=True)\n",
    "\n",
    "    # Return result\n",
    "    return output_text"
   ]
  },
  {
   "cell_type": "code",
   "execution_count": 62,
   "metadata": {},
   "outputs": [
    {
     "name": "stdout",
     "output_type": "stream",
     "text": [
      "\n",
      "INPUT TEXT: Given the following passage, answer the related question.\n",
      "\n",
      "Passage:\n",
      "\n",
      "Beyoncé Giselle Knowles-Carter (/biːˈjɒnseɪ/ bee-YON-say) (born September 4, 1981) is an American singer, songwriter, record producer and actress. Born and raised in Houston, Texas, she performed in various singing and dancing competitions as a child, and rose to fame in the late 1990s as lead singer of R&B girl-group Destiny's Child. Managed by her father, Mathew Knowles, the group became one of the world's best-selling girl groups of all time. Their hiatus saw the release of Beyoncé's debut album, Dangerously in Love (2003), which established her as a solo artist worldwide, earned five Grammy Awards and featured the Billboard Hot 100 number-one singles \"Crazy in Love\" and \"Baby Boy\".\n",
      "\n",
      "Q: Beyoncè born when? \n",
      "\n",
      "September 4, 1981\n"
     ]
    }
   ],
   "source": [
    "question = input(\"Ask a question >>> \")  # e.g., \"How many fingers in a hand?\", \"What is the oldest newspaper in Chile?\", ...\n",
    "print()\n",
    "\n",
    "print(qa_pipeline(question, True))"
   ]
  },
  {
   "cell_type": "markdown",
   "metadata": {},
   "source": [
    "## Text to Speech- Speech to text"
   ]
  },
  {
   "cell_type": "code",
   "execution_count": 63,
   "metadata": {},
   "outputs": [
    {
     "name": "stdout",
     "output_type": "stream",
     "text": [
      "Requirement already satisfied: numpy in c:\\users\\simon\\appdata\\local\\packages\\pythonsoftwarefoundation.python.3.11_qbz5n2kfra8p0\\localcache\\local-packages\\python311\\site-packages (1.26.2)\n",
      "Requirement already satisfied: scipy in c:\\users\\simon\\appdata\\local\\packages\\pythonsoftwarefoundation.python.3.11_qbz5n2kfra8p0\\localcache\\local-packages\\python311\\site-packages (1.11.3)\n",
      "Requirement already satisfied: librosa in c:\\users\\simon\\appdata\\local\\packages\\pythonsoftwarefoundation.python.3.11_qbz5n2kfra8p0\\localcache\\local-packages\\python311\\site-packages (0.10.1)\n",
      "Requirement already satisfied: unidecode in c:\\users\\simon\\appdata\\local\\packages\\pythonsoftwarefoundation.python.3.11_qbz5n2kfra8p0\\localcache\\local-packages\\python311\\site-packages (1.3.7)\n",
      "Requirement already satisfied: inflect in c:\\users\\simon\\appdata\\local\\packages\\pythonsoftwarefoundation.python.3.11_qbz5n2kfra8p0\\localcache\\local-packages\\python311\\site-packages (7.0.0)\n",
      "Requirement already satisfied: openai-whisper in c:\\users\\simon\\appdata\\local\\packages\\pythonsoftwarefoundation.python.3.11_qbz5n2kfra8p0\\localcache\\local-packages\\python311\\site-packages (20231117)\n",
      "Requirement already satisfied: audioread>=2.1.9 in c:\\users\\simon\\appdata\\local\\packages\\pythonsoftwarefoundation.python.3.11_qbz5n2kfra8p0\\localcache\\local-packages\\python311\\site-packages (from librosa) (3.0.1)\n",
      "Requirement already satisfied: scikit-learn>=0.20.0 in c:\\users\\simon\\appdata\\local\\packages\\pythonsoftwarefoundation.python.3.11_qbz5n2kfra8p0\\localcache\\local-packages\\python311\\site-packages (from librosa) (1.3.2)\n",
      "Requirement already satisfied: joblib>=0.14 in c:\\users\\simon\\appdata\\local\\packages\\pythonsoftwarefoundation.python.3.11_qbz5n2kfra8p0\\localcache\\local-packages\\python311\\site-packages (from librosa) (1.3.2)\n",
      "Requirement already satisfied: decorator>=4.3.0 in c:\\users\\simon\\appdata\\local\\packages\\pythonsoftwarefoundation.python.3.11_qbz5n2kfra8p0\\localcache\\local-packages\\python311\\site-packages (from librosa) (5.1.1)\n",
      "Requirement already satisfied: numba>=0.51.0 in c:\\users\\simon\\appdata\\local\\packages\\pythonsoftwarefoundation.python.3.11_qbz5n2kfra8p0\\localcache\\local-packages\\python311\\site-packages (from librosa) (0.58.1)\n",
      "Requirement already satisfied: soundfile>=0.12.1 in c:\\users\\simon\\appdata\\local\\packages\\pythonsoftwarefoundation.python.3.11_qbz5n2kfra8p0\\localcache\\local-packages\\python311\\site-packages (from librosa) (0.12.1)\n",
      "Requirement already satisfied: pooch>=1.0 in c:\\users\\simon\\appdata\\local\\packages\\pythonsoftwarefoundation.python.3.11_qbz5n2kfra8p0\\localcache\\local-packages\\python311\\site-packages (from librosa) (1.8.0)\n",
      "Requirement already satisfied: soxr>=0.3.2 in c:\\users\\simon\\appdata\\local\\packages\\pythonsoftwarefoundation.python.3.11_qbz5n2kfra8p0\\localcache\\local-packages\\python311\\site-packages (from librosa) (0.3.7)\n",
      "Requirement already satisfied: typing-extensions>=4.1.1 in c:\\users\\simon\\appdata\\local\\packages\\pythonsoftwarefoundation.python.3.11_qbz5n2kfra8p0\\localcache\\local-packages\\python311\\site-packages (from librosa) (4.8.0)\n",
      "Requirement already satisfied: lazy-loader>=0.1 in c:\\users\\simon\\appdata\\local\\packages\\pythonsoftwarefoundation.python.3.11_qbz5n2kfra8p0\\localcache\\local-packages\\python311\\site-packages (from librosa) (0.3)\n",
      "Requirement already satisfied: msgpack>=1.0 in c:\\users\\simon\\appdata\\local\\packages\\pythonsoftwarefoundation.python.3.11_qbz5n2kfra8p0\\localcache\\local-packages\\python311\\site-packages (from librosa) (1.0.7)\n",
      "Requirement already satisfied: pydantic>=1.9.1 in c:\\users\\simon\\appdata\\local\\packages\\pythonsoftwarefoundation.python.3.11_qbz5n2kfra8p0\\localcache\\local-packages\\python311\\site-packages (from inflect) (2.5.3)\n",
      "Requirement already satisfied: torch in c:\\users\\simon\\appdata\\local\\packages\\pythonsoftwarefoundation.python.3.11_qbz5n2kfra8p0\\localcache\\local-packages\\python311\\site-packages (from openai-whisper) (2.1.2)\n",
      "Requirement already satisfied: tqdm in c:\\users\\simon\\appdata\\local\\packages\\pythonsoftwarefoundation.python.3.11_qbz5n2kfra8p0\\localcache\\local-packages\\python311\\site-packages (from openai-whisper) (4.66.1)\n",
      "Requirement already satisfied: more-itertools in c:\\users\\simon\\appdata\\local\\packages\\pythonsoftwarefoundation.python.3.11_qbz5n2kfra8p0\\localcache\\local-packages\\python311\\site-packages (from openai-whisper) (10.1.0)\n",
      "Requirement already satisfied: tiktoken in c:\\users\\simon\\appdata\\local\\packages\\pythonsoftwarefoundation.python.3.11_qbz5n2kfra8p0\\localcache\\local-packages\\python311\\site-packages (from openai-whisper) (0.5.2)\n",
      "Requirement already satisfied: llvmlite<0.42,>=0.41.0dev0 in c:\\users\\simon\\appdata\\local\\packages\\pythonsoftwarefoundation.python.3.11_qbz5n2kfra8p0\\localcache\\local-packages\\python311\\site-packages (from numba>=0.51.0->librosa) (0.41.1)\n",
      "Requirement already satisfied: platformdirs>=2.5.0 in c:\\users\\simon\\appdata\\local\\packages\\pythonsoftwarefoundation.python.3.11_qbz5n2kfra8p0\\localcache\\local-packages\\python311\\site-packages (from pooch>=1.0->librosa) (4.0.0)\n",
      "Requirement already satisfied: packaging>=20.0 in c:\\users\\simon\\appdata\\local\\packages\\pythonsoftwarefoundation.python.3.11_qbz5n2kfra8p0\\localcache\\local-packages\\python311\\site-packages (from pooch>=1.0->librosa) (23.2)\n",
      "Requirement already satisfied: requests>=2.19.0 in c:\\users\\simon\\appdata\\local\\packages\\pythonsoftwarefoundation.python.3.11_qbz5n2kfra8p0\\localcache\\local-packages\\python311\\site-packages (from pooch>=1.0->librosa) (2.31.0)\n",
      "Requirement already satisfied: annotated-types>=0.4.0 in c:\\users\\simon\\appdata\\local\\packages\\pythonsoftwarefoundation.python.3.11_qbz5n2kfra8p0\\localcache\\local-packages\\python311\\site-packages (from pydantic>=1.9.1->inflect) (0.6.0)\n",
      "Requirement already satisfied: pydantic-core==2.14.6 in c:\\users\\simon\\appdata\\local\\packages\\pythonsoftwarefoundation.python.3.11_qbz5n2kfra8p0\\localcache\\local-packages\\python311\\site-packages (from pydantic>=1.9.1->inflect) (2.14.6)\n",
      "Requirement already satisfied: threadpoolctl>=2.0.0 in c:\\users\\simon\\appdata\\local\\packages\\pythonsoftwarefoundation.python.3.11_qbz5n2kfra8p0\\localcache\\local-packages\\python311\\site-packages (from scikit-learn>=0.20.0->librosa) (3.2.0)\n",
      "Requirement already satisfied: cffi>=1.0 in c:\\users\\simon\\appdata\\local\\packages\\pythonsoftwarefoundation.python.3.11_qbz5n2kfra8p0\\localcache\\local-packages\\python311\\site-packages (from soundfile>=0.12.1->librosa) (1.16.0)\n",
      "Requirement already satisfied: regex>=2022.1.18 in c:\\users\\simon\\appdata\\local\\packages\\pythonsoftwarefoundation.python.3.11_qbz5n2kfra8p0\\localcache\\local-packages\\python311\\site-packages (from tiktoken->openai-whisper) (2023.12.25)\n",
      "Requirement already satisfied: filelock in c:\\users\\simon\\appdata\\local\\packages\\pythonsoftwarefoundation.python.3.11_qbz5n2kfra8p0\\localcache\\local-packages\\python311\\site-packages (from torch->openai-whisper) (3.13.1)\n",
      "Requirement already satisfied: sympy in c:\\users\\simon\\appdata\\local\\packages\\pythonsoftwarefoundation.python.3.11_qbz5n2kfra8p0\\localcache\\local-packages\\python311\\site-packages (from torch->openai-whisper) (1.12)\n",
      "Requirement already satisfied: networkx in c:\\users\\simon\\appdata\\local\\packages\\pythonsoftwarefoundation.python.3.11_qbz5n2kfra8p0\\localcache\\local-packages\\python311\\site-packages (from torch->openai-whisper) (3.2.1)\n",
      "Requirement already satisfied: jinja2 in c:\\users\\simon\\appdata\\local\\packages\\pythonsoftwarefoundation.python.3.11_qbz5n2kfra8p0\\localcache\\local-packages\\python311\\site-packages (from torch->openai-whisper) (3.1.2)\n",
      "Requirement already satisfied: fsspec in c:\\users\\simon\\appdata\\local\\packages\\pythonsoftwarefoundation.python.3.11_qbz5n2kfra8p0\\localcache\\local-packages\\python311\\site-packages (from torch->openai-whisper) (2023.10.0)\n",
      "Requirement already satisfied: colorama in c:\\users\\simon\\appdata\\local\\packages\\pythonsoftwarefoundation.python.3.11_qbz5n2kfra8p0\\localcache\\local-packages\\python311\\site-packages (from tqdm->openai-whisper) (0.4.6)\n",
      "Requirement already satisfied: pycparser in c:\\users\\simon\\appdata\\local\\packages\\pythonsoftwarefoundation.python.3.11_qbz5n2kfra8p0\\localcache\\local-packages\\python311\\site-packages (from cffi>=1.0->soundfile>=0.12.1->librosa) (2.21)\n",
      "Requirement already satisfied: charset-normalizer<4,>=2 in c:\\users\\simon\\appdata\\local\\packages\\pythonsoftwarefoundation.python.3.11_qbz5n2kfra8p0\\localcache\\local-packages\\python311\\site-packages (from requests>=2.19.0->pooch>=1.0->librosa) (3.3.2)\n",
      "Requirement already satisfied: idna<4,>=2.5 in c:\\users\\simon\\appdata\\local\\packages\\pythonsoftwarefoundation.python.3.11_qbz5n2kfra8p0\\localcache\\local-packages\\python311\\site-packages (from requests>=2.19.0->pooch>=1.0->librosa) (3.4)\n",
      "Requirement already satisfied: urllib3<3,>=1.21.1 in c:\\users\\simon\\appdata\\local\\packages\\pythonsoftwarefoundation.python.3.11_qbz5n2kfra8p0\\localcache\\local-packages\\python311\\site-packages (from requests>=2.19.0->pooch>=1.0->librosa) (2.1.0)\n",
      "Requirement already satisfied: certifi>=2017.4.17 in c:\\users\\simon\\appdata\\local\\packages\\pythonsoftwarefoundation.python.3.11_qbz5n2kfra8p0\\localcache\\local-packages\\python311\\site-packages (from requests>=2.19.0->pooch>=1.0->librosa) (2023.7.22)\n",
      "Requirement already satisfied: MarkupSafe>=2.0 in c:\\users\\simon\\appdata\\local\\packages\\pythonsoftwarefoundation.python.3.11_qbz5n2kfra8p0\\localcache\\local-packages\\python311\\site-packages (from jinja2->torch->openai-whisper) (2.1.3)\n",
      "Requirement already satisfied: mpmath>=0.19 in c:\\users\\simon\\appdata\\local\\packages\\pythonsoftwarefoundation.python.3.11_qbz5n2kfra8p0\\localcache\\local-packages\\python311\\site-packages (from sympy->torch->openai-whisper) (1.3.0)\n"
     ]
    }
   ],
   "source": [
    "!pip install numpy scipy librosa unidecode inflect openai-whisper"
   ]
  },
  {
   "cell_type": "markdown",
   "metadata": {},
   "source": [
    "It's been 3 days with the same problem, I have no idea how to solve it, I also tried to copy your code Joona I'm sorry <3"
   ]
  },
  {
   "cell_type": "code",
   "execution_count": 75,
   "metadata": {},
   "outputs": [
    {
     "name": "stderr",
     "output_type": "stream",
     "text": [
      "Using cache found in C:\\Users\\simon/.cache\\torch\\hub\\NVIDIA_DeepLearningExamples_torchhub\n"
     ]
    },
    {
     "ename": "RuntimeError",
     "evalue": "Attempting to deserialize object on a CUDA device but torch.cuda.is_available() is False. If you are running on a CPU-only machine, please use torch.load with map_location=torch.device('cpu') to map your storages to the CPU.",
     "output_type": "error",
     "traceback": [
      "\u001b[1;31m---------------------------------------------------------------------------\u001b[0m",
      "\u001b[1;31mRuntimeError\u001b[0m                              Traceback (most recent call last)",
      "Cell \u001b[1;32mIn[75], line 8\u001b[0m\n\u001b[0;32m      5\u001b[0m device \u001b[38;5;241m=\u001b[39m torch\u001b[38;5;241m.\u001b[39mdevice(\u001b[38;5;124m'\u001b[39m\u001b[38;5;124mcpu\u001b[39m\u001b[38;5;124m'\u001b[39m)\n\u001b[0;32m      7\u001b[0m \u001b[38;5;66;03m# Load tacotron\u001b[39;00m\n\u001b[1;32m----> 8\u001b[0m tacotron2 \u001b[38;5;241m=\u001b[39m \u001b[43mtorch\u001b[49m\u001b[38;5;241;43m.\u001b[39;49m\u001b[43mhub\u001b[49m\u001b[38;5;241;43m.\u001b[39;49m\u001b[43mload\u001b[49m\u001b[43m(\u001b[49m\u001b[38;5;124;43m'\u001b[39;49m\u001b[38;5;124;43mNVIDIA/DeepLearningExamples:torchhub\u001b[39;49m\u001b[38;5;124;43m'\u001b[39;49m\u001b[43m,\u001b[49m\u001b[43m \u001b[49m\u001b[38;5;124;43m'\u001b[39;49m\u001b[38;5;124;43mnvidia_tacotron2\u001b[39;49m\u001b[38;5;124;43m'\u001b[39;49m\u001b[43m)\u001b[49m\n\u001b[0;32m      9\u001b[0m tacotron2 \u001b[38;5;241m=\u001b[39m tacotron2\u001b[38;5;241m.\u001b[39mto(\u001b[38;5;124m'\u001b[39m\u001b[38;5;124mcuda\u001b[39m\u001b[38;5;124m'\u001b[39m)\n\u001b[0;32m     10\u001b[0m tacotron2\u001b[38;5;241m.\u001b[39meval()\n",
      "File \u001b[1;32m~\\AppData\\Local\\Packages\\PythonSoftwareFoundation.Python.3.11_qbz5n2kfra8p0\\LocalCache\\local-packages\\Python311\\site-packages\\torch\\hub.py:566\u001b[0m, in \u001b[0;36mload\u001b[1;34m(repo_or_dir, model, source, trust_repo, force_reload, verbose, skip_validation, *args, **kwargs)\u001b[0m\n\u001b[0;32m    562\u001b[0m \u001b[38;5;28;01mif\u001b[39;00m source \u001b[38;5;241m==\u001b[39m \u001b[38;5;124m'\u001b[39m\u001b[38;5;124mgithub\u001b[39m\u001b[38;5;124m'\u001b[39m:\n\u001b[0;32m    563\u001b[0m     repo_or_dir \u001b[38;5;241m=\u001b[39m _get_cache_or_reload(repo_or_dir, force_reload, trust_repo, \u001b[38;5;124m\"\u001b[39m\u001b[38;5;124mload\u001b[39m\u001b[38;5;124m\"\u001b[39m,\n\u001b[0;32m    564\u001b[0m                                        verbose\u001b[38;5;241m=\u001b[39mverbose, skip_validation\u001b[38;5;241m=\u001b[39mskip_validation)\n\u001b[1;32m--> 566\u001b[0m model \u001b[38;5;241m=\u001b[39m \u001b[43m_load_local\u001b[49m\u001b[43m(\u001b[49m\u001b[43mrepo_or_dir\u001b[49m\u001b[43m,\u001b[49m\u001b[43m \u001b[49m\u001b[43mmodel\u001b[49m\u001b[43m,\u001b[49m\u001b[43m \u001b[49m\u001b[38;5;241;43m*\u001b[39;49m\u001b[43margs\u001b[49m\u001b[43m,\u001b[49m\u001b[43m \u001b[49m\u001b[38;5;241;43m*\u001b[39;49m\u001b[38;5;241;43m*\u001b[39;49m\u001b[43mkwargs\u001b[49m\u001b[43m)\u001b[49m\n\u001b[0;32m    567\u001b[0m \u001b[38;5;28;01mreturn\u001b[39;00m model\n",
      "File \u001b[1;32m~\\AppData\\Local\\Packages\\PythonSoftwareFoundation.Python.3.11_qbz5n2kfra8p0\\LocalCache\\local-packages\\Python311\\site-packages\\torch\\hub.py:595\u001b[0m, in \u001b[0;36m_load_local\u001b[1;34m(hubconf_dir, model, *args, **kwargs)\u001b[0m\n\u001b[0;32m    592\u001b[0m     hub_module \u001b[38;5;241m=\u001b[39m _import_module(MODULE_HUBCONF, hubconf_path)\n\u001b[0;32m    594\u001b[0m     entry \u001b[38;5;241m=\u001b[39m _load_entry_from_hubconf(hub_module, model)\n\u001b[1;32m--> 595\u001b[0m     model \u001b[38;5;241m=\u001b[39m \u001b[43mentry\u001b[49m\u001b[43m(\u001b[49m\u001b[38;5;241;43m*\u001b[39;49m\u001b[43margs\u001b[49m\u001b[43m,\u001b[49m\u001b[43m \u001b[49m\u001b[38;5;241;43m*\u001b[39;49m\u001b[38;5;241;43m*\u001b[39;49m\u001b[43mkwargs\u001b[49m\u001b[43m)\u001b[49m\n\u001b[0;32m    597\u001b[0m \u001b[38;5;28;01mreturn\u001b[39;00m model\n",
      "File \u001b[1;32m~/.cache\\torch\\hub\\NVIDIA_DeepLearningExamples_torchhub\\PyTorch\\SpeechSynthesis\\Tacotron2\\tacotron2\\entrypoints.py:99\u001b[0m, in \u001b[0;36mnvidia_tacotron2\u001b[1;34m(pretrained, **kwargs)\u001b[0m\n\u001b[0;32m     97\u001b[0m     checkpoint \u001b[38;5;241m=\u001b[39m \u001b[38;5;124m'\u001b[39m\u001b[38;5;124mhttps://api.ngc.nvidia.com/v2/models/nvidia/tacotron2_pyt_ckpt_fp32/versions/19.09.0/files/nvidia_tacotron2pyt_fp32_20190427\u001b[39m\u001b[38;5;124m'\u001b[39m\n\u001b[0;32m     98\u001b[0m ckpt_file \u001b[38;5;241m=\u001b[39m _download_checkpoint(checkpoint, force_reload)\n\u001b[1;32m---> 99\u001b[0m ckpt \u001b[38;5;241m=\u001b[39m \u001b[43mtorch\u001b[49m\u001b[38;5;241;43m.\u001b[39;49m\u001b[43mload\u001b[49m\u001b[43m(\u001b[49m\u001b[43mckpt_file\u001b[49m\u001b[43m)\u001b[49m\n\u001b[0;32m    100\u001b[0m state_dict \u001b[38;5;241m=\u001b[39m ckpt[\u001b[38;5;124m'\u001b[39m\u001b[38;5;124mstate_dict\u001b[39m\u001b[38;5;124m'\u001b[39m]\n\u001b[0;32m    101\u001b[0m \u001b[38;5;28;01mif\u001b[39;00m checkpoint_from_distributed(state_dict):\n",
      "File \u001b[1;32m~\\AppData\\Local\\Packages\\PythonSoftwareFoundation.Python.3.11_qbz5n2kfra8p0\\LocalCache\\local-packages\\Python311\\site-packages\\torch\\serialization.py:1028\u001b[0m, in \u001b[0;36mload\u001b[1;34m(f, map_location, pickle_module, weights_only, mmap, **pickle_load_args)\u001b[0m\n\u001b[0;32m   1026\u001b[0m     \u001b[38;5;28;01mexcept\u001b[39;00m \u001b[38;5;167;01mRuntimeError\u001b[39;00m \u001b[38;5;28;01mas\u001b[39;00m e:\n\u001b[0;32m   1027\u001b[0m         \u001b[38;5;28;01mraise\u001b[39;00m pickle\u001b[38;5;241m.\u001b[39mUnpicklingError(UNSAFE_MESSAGE \u001b[38;5;241m+\u001b[39m \u001b[38;5;28mstr\u001b[39m(e)) \u001b[38;5;28;01mfrom\u001b[39;00m \u001b[38;5;28;01mNone\u001b[39;00m\n\u001b[1;32m-> 1028\u001b[0m \u001b[38;5;28;01mreturn\u001b[39;00m \u001b[43m_legacy_load\u001b[49m\u001b[43m(\u001b[49m\u001b[43mopened_file\u001b[49m\u001b[43m,\u001b[49m\u001b[43m \u001b[49m\u001b[43mmap_location\u001b[49m\u001b[43m,\u001b[49m\u001b[43m \u001b[49m\u001b[43mpickle_module\u001b[49m\u001b[43m,\u001b[49m\u001b[43m \u001b[49m\u001b[38;5;241;43m*\u001b[39;49m\u001b[38;5;241;43m*\u001b[39;49m\u001b[43mpickle_load_args\u001b[49m\u001b[43m)\u001b[49m\n",
      "File \u001b[1;32m~\\AppData\\Local\\Packages\\PythonSoftwareFoundation.Python.3.11_qbz5n2kfra8p0\\LocalCache\\local-packages\\Python311\\site-packages\\torch\\serialization.py:1256\u001b[0m, in \u001b[0;36m_legacy_load\u001b[1;34m(f, map_location, pickle_module, **pickle_load_args)\u001b[0m\n\u001b[0;32m   1254\u001b[0m unpickler \u001b[38;5;241m=\u001b[39m UnpicklerWrapper(f, \u001b[38;5;241m*\u001b[39m\u001b[38;5;241m*\u001b[39mpickle_load_args)\n\u001b[0;32m   1255\u001b[0m unpickler\u001b[38;5;241m.\u001b[39mpersistent_load \u001b[38;5;241m=\u001b[39m persistent_load\n\u001b[1;32m-> 1256\u001b[0m result \u001b[38;5;241m=\u001b[39m \u001b[43munpickler\u001b[49m\u001b[38;5;241;43m.\u001b[39;49m\u001b[43mload\u001b[49m\u001b[43m(\u001b[49m\u001b[43m)\u001b[49m\n\u001b[0;32m   1258\u001b[0m deserialized_storage_keys \u001b[38;5;241m=\u001b[39m pickle_module\u001b[38;5;241m.\u001b[39mload(f, \u001b[38;5;241m*\u001b[39m\u001b[38;5;241m*\u001b[39mpickle_load_args)\n\u001b[0;32m   1260\u001b[0m offset \u001b[38;5;241m=\u001b[39m f\u001b[38;5;241m.\u001b[39mtell() \u001b[38;5;28;01mif\u001b[39;00m f_should_read_directly \u001b[38;5;28;01melse\u001b[39;00m \u001b[38;5;28;01mNone\u001b[39;00m\n",
      "File \u001b[1;32m~\\AppData\\Local\\Packages\\PythonSoftwareFoundation.Python.3.11_qbz5n2kfra8p0\\LocalCache\\local-packages\\Python311\\site-packages\\torch\\serialization.py:1193\u001b[0m, in \u001b[0;36m_legacy_load.<locals>.persistent_load\u001b[1;34m(saved_id)\u001b[0m\n\u001b[0;32m   1189\u001b[0m     obj\u001b[38;5;241m.\u001b[39m_torch_load_uninitialized \u001b[38;5;241m=\u001b[39m \u001b[38;5;28;01mTrue\u001b[39;00m\n\u001b[0;32m   1190\u001b[0m     \u001b[38;5;66;03m# TODO: Once we decide to break serialization FC, we can\u001b[39;00m\n\u001b[0;32m   1191\u001b[0m     \u001b[38;5;66;03m# stop wrapping with TypedStorage\u001b[39;00m\n\u001b[0;32m   1192\u001b[0m     typed_storage \u001b[38;5;241m=\u001b[39m torch\u001b[38;5;241m.\u001b[39mstorage\u001b[38;5;241m.\u001b[39mTypedStorage(\n\u001b[1;32m-> 1193\u001b[0m         wrap_storage\u001b[38;5;241m=\u001b[39m\u001b[43mrestore_location\u001b[49m\u001b[43m(\u001b[49m\u001b[43mobj\u001b[49m\u001b[43m,\u001b[49m\u001b[43m \u001b[49m\u001b[43mlocation\u001b[49m\u001b[43m)\u001b[49m,\n\u001b[0;32m   1194\u001b[0m         dtype\u001b[38;5;241m=\u001b[39mdtype,\n\u001b[0;32m   1195\u001b[0m         _internal\u001b[38;5;241m=\u001b[39m\u001b[38;5;28;01mTrue\u001b[39;00m)\n\u001b[0;32m   1196\u001b[0m     deserialized_objects[root_key] \u001b[38;5;241m=\u001b[39m typed_storage\n\u001b[0;32m   1197\u001b[0m \u001b[38;5;28;01melse\u001b[39;00m:\n",
      "File \u001b[1;32m~\\AppData\\Local\\Packages\\PythonSoftwareFoundation.Python.3.11_qbz5n2kfra8p0\\LocalCache\\local-packages\\Python311\\site-packages\\torch\\serialization.py:381\u001b[0m, in \u001b[0;36mdefault_restore_location\u001b[1;34m(storage, location)\u001b[0m\n\u001b[0;32m    379\u001b[0m \u001b[38;5;28;01mdef\u001b[39;00m \u001b[38;5;21mdefault_restore_location\u001b[39m(storage, location):\n\u001b[0;32m    380\u001b[0m     \u001b[38;5;28;01mfor\u001b[39;00m _, _, fn \u001b[38;5;129;01min\u001b[39;00m _package_registry:\n\u001b[1;32m--> 381\u001b[0m         result \u001b[38;5;241m=\u001b[39m \u001b[43mfn\u001b[49m\u001b[43m(\u001b[49m\u001b[43mstorage\u001b[49m\u001b[43m,\u001b[49m\u001b[43m \u001b[49m\u001b[43mlocation\u001b[49m\u001b[43m)\u001b[49m\n\u001b[0;32m    382\u001b[0m         \u001b[38;5;28;01mif\u001b[39;00m result \u001b[38;5;129;01mis\u001b[39;00m \u001b[38;5;129;01mnot\u001b[39;00m \u001b[38;5;28;01mNone\u001b[39;00m:\n\u001b[0;32m    383\u001b[0m             \u001b[38;5;28;01mreturn\u001b[39;00m result\n",
      "File \u001b[1;32m~\\AppData\\Local\\Packages\\PythonSoftwareFoundation.Python.3.11_qbz5n2kfra8p0\\LocalCache\\local-packages\\Python311\\site-packages\\torch\\serialization.py:274\u001b[0m, in \u001b[0;36m_cuda_deserialize\u001b[1;34m(obj, location)\u001b[0m\n\u001b[0;32m    272\u001b[0m \u001b[38;5;28;01mdef\u001b[39;00m \u001b[38;5;21m_cuda_deserialize\u001b[39m(obj, location):\n\u001b[0;32m    273\u001b[0m     \u001b[38;5;28;01mif\u001b[39;00m location\u001b[38;5;241m.\u001b[39mstartswith(\u001b[38;5;124m'\u001b[39m\u001b[38;5;124mcuda\u001b[39m\u001b[38;5;124m'\u001b[39m):\n\u001b[1;32m--> 274\u001b[0m         device \u001b[38;5;241m=\u001b[39m \u001b[43mvalidate_cuda_device\u001b[49m\u001b[43m(\u001b[49m\u001b[43mlocation\u001b[49m\u001b[43m)\u001b[49m\n\u001b[0;32m    275\u001b[0m         \u001b[38;5;28;01mif\u001b[39;00m \u001b[38;5;28mgetattr\u001b[39m(obj, \u001b[38;5;124m\"\u001b[39m\u001b[38;5;124m_torch_load_uninitialized\u001b[39m\u001b[38;5;124m\"\u001b[39m, \u001b[38;5;28;01mFalse\u001b[39;00m):\n\u001b[0;32m    276\u001b[0m             \u001b[38;5;28;01mwith\u001b[39;00m torch\u001b[38;5;241m.\u001b[39mcuda\u001b[38;5;241m.\u001b[39mdevice(device):\n",
      "File \u001b[1;32m~\\AppData\\Local\\Packages\\PythonSoftwareFoundation.Python.3.11_qbz5n2kfra8p0\\LocalCache\\local-packages\\Python311\\site-packages\\torch\\serialization.py:258\u001b[0m, in \u001b[0;36mvalidate_cuda_device\u001b[1;34m(location)\u001b[0m\n\u001b[0;32m    255\u001b[0m device \u001b[38;5;241m=\u001b[39m torch\u001b[38;5;241m.\u001b[39mcuda\u001b[38;5;241m.\u001b[39m_utils\u001b[38;5;241m.\u001b[39m_get_device_index(location, \u001b[38;5;28;01mTrue\u001b[39;00m)\n\u001b[0;32m    257\u001b[0m \u001b[38;5;28;01mif\u001b[39;00m \u001b[38;5;129;01mnot\u001b[39;00m torch\u001b[38;5;241m.\u001b[39mcuda\u001b[38;5;241m.\u001b[39mis_available():\n\u001b[1;32m--> 258\u001b[0m     \u001b[38;5;28;01mraise\u001b[39;00m \u001b[38;5;167;01mRuntimeError\u001b[39;00m(\u001b[38;5;124m'\u001b[39m\u001b[38;5;124mAttempting to deserialize object on a CUDA \u001b[39m\u001b[38;5;124m'\u001b[39m\n\u001b[0;32m    259\u001b[0m                        \u001b[38;5;124m'\u001b[39m\u001b[38;5;124mdevice but torch.cuda.is_available() is False. \u001b[39m\u001b[38;5;124m'\u001b[39m\n\u001b[0;32m    260\u001b[0m                        \u001b[38;5;124m'\u001b[39m\u001b[38;5;124mIf you are running on a CPU-only machine, \u001b[39m\u001b[38;5;124m'\u001b[39m\n\u001b[0;32m    261\u001b[0m                        \u001b[38;5;124m'\u001b[39m\u001b[38;5;124mplease use torch.load with map_location=torch.device(\u001b[39m\u001b[38;5;130;01m\\'\u001b[39;00m\u001b[38;5;124mcpu\u001b[39m\u001b[38;5;130;01m\\'\u001b[39;00m\u001b[38;5;124m) \u001b[39m\u001b[38;5;124m'\u001b[39m\n\u001b[0;32m    262\u001b[0m                        \u001b[38;5;124m'\u001b[39m\u001b[38;5;124mto map your storages to the CPU.\u001b[39m\u001b[38;5;124m'\u001b[39m)\n\u001b[0;32m    263\u001b[0m device_count \u001b[38;5;241m=\u001b[39m torch\u001b[38;5;241m.\u001b[39mcuda\u001b[38;5;241m.\u001b[39mdevice_count()\n\u001b[0;32m    264\u001b[0m \u001b[38;5;28;01mif\u001b[39;00m device \u001b[38;5;241m>\u001b[39m\u001b[38;5;241m=\u001b[39m device_count:\n",
      "\u001b[1;31mRuntimeError\u001b[0m: Attempting to deserialize object on a CUDA device but torch.cuda.is_available() is False. If you are running on a CPU-only machine, please use torch.load with map_location=torch.device('cpu') to map your storages to the CPU."
     ]
    }
   ],
   "source": [
    "import torch\n",
    "from scipy.io.wavfile import write\n",
    "import whisper\n",
    "\n",
    "device = torch.device('cpu')\n",
    "\n",
    "# Load tacotron\n",
    "tacotron2 = torch.hub.load('NVIDIA/DeepLearningExamples:torchhub', 'nvidia_tacotron2')\n",
    "tacotron2 = tacotron2.to('cuda')\n",
    "tacotron2.eval()\n",
    "\n",
    "# Load waveglow\n",
    "waveglow = torch.hub.load('NVIDIA/DeepLearningExamples:torchhub', 'nvidia_waveglow')\n",
    "waveglow = waveglow.remove_weightnorm(waveglow)\n",
    "waveglow = waveglow.to('cuda')\n",
    "waveglow.eval()\n",
    "\n",
    "# Load utils\n",
    "utils = torch.hub.load('NVIDIA/DeepLearningExamples:torchhub', 'nvidia_tts_utils')\n",
    "\n"
   ]
  },
  {
   "cell_type": "code",
   "execution_count": null,
   "metadata": {},
   "outputs": [],
   "source": [
    "text = \"When did Beyoncé release Dangerously in Love?\"\n",
    "\n",
    "audio_numpy, rate = text2speech(text)\n",
    "\n",
    "write(\"audio.wav\", rate, audio_numpy)\n",
    "Audio(audio_numpy, rate=rate) "
   ]
  }
 ],
 "metadata": {
  "kernelspec": {
   "display_name": "Python 3",
   "language": "python",
   "name": "python3"
  },
  "language_info": {
   "codemirror_mode": {
    "name": "ipython",
    "version": 3
   },
   "file_extension": ".py",
   "mimetype": "text/x-python",
   "name": "python",
   "nbconvert_exporter": "python",
   "pygments_lexer": "ipython3",
   "version": "3.11.7"
  }
 },
 "nbformat": 4,
 "nbformat_minor": 2
}
