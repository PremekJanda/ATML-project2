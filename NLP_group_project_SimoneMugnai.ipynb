{
 "cells": [
  {
   "cell_type": "code",
   "execution_count": 2,
   "metadata": {},
   "outputs": [],
   "source": [
    "import json\n",
    "import re\n",
    "\n",
    "file_path = \"C:/Users/simon/OneDrive/Desktop/Advanced Machine Learning/NLP/Group_project/train-v2.0.json\"\n",
    "with open(file_path, 'r') as file:\n",
    "    data = json.load(file)\n",
    "    text_data = data[\"data\"]\n",
    "    paragraphs = [paragraph[\"context\"] for topic in text_data for paragraph in topic[\"paragraphs\"]]\n",
    "    \n",
    "    # Extract questions and answers, handling cases where \"answers\" list is empty\n",
    "    questions = []\n",
    "    answers = []\n",
    "    for topic in text_data:\n",
    "        for paragraph in topic[\"paragraphs\"]:\n",
    "            for question in paragraph[\"qas\"]:\n",
    "                # Check if \"answers\" list is not empty before accessing its elements\n",
    "                if question[\"answers\"]:\n",
    "                    questions.append(question[\"question\"])\n",
    "                    answers.append(question[\"answers\"][0][\"text\"])\n",
    "                else:\n",
    "                    # Handle the case where \"answers\" list is empty\n",
    "                    questions.append(question[\"question\"])\n",
    "                    answers.append(\"No answer available\")\n"
   ]
  },
  {
   "cell_type": "code",
   "execution_count": 3,
   "metadata": {},
   "outputs": [
    {
     "name": "stdout",
     "output_type": "stream",
     "text": [
      "Paragraphs:\n",
      " ['Beyoncé Giselle Knowles-Carter (/biːˈjɒnseɪ/ bee-YON-say) (born September 4, 1981) is an American singer, songwriter, record producer and actress. Born and raised in Houston, Texas, she performed in various singing and dancing competitions as a child, and rose to fame in the late 1990s as lead singer of R&B girl-group Destiny\\'s Child. Managed by her father, Mathew Knowles, the group became one of the world\\'s best-selling girl groups of all time. Their hiatus saw the release of Beyoncé\\'s debut album, Dangerously in Love (2003), which established her as a solo artist worldwide, earned five Grammy Awards and featured the Billboard Hot 100 number-one singles \"Crazy in Love\" and \"Baby Boy\".', 'Following the disbandment of Destiny\\'s Child in June 2005, she released her second solo album, B\\'Day (2006), which contained hits \"Déjà Vu\", \"Irreplaceable\", and \"Beautiful Liar\". Beyoncé also ventured into acting, with a Golden Globe-nominated performance in Dreamgirls (2006), and starring roles in The Pink Panther (2006) and Obsessed (2009). Her marriage to rapper Jay Z and portrayal of Etta James in Cadillac Records (2008) influenced her third album, I Am... Sasha Fierce (2008), which saw the birth of her alter-ego Sasha Fierce and earned a record-setting six Grammy Awards in 2010, including Song of the Year for \"Single Ladies (Put a Ring on It)\". Beyoncé took a hiatus from music in 2010 and took over management of her career; her fourth album 4 (2011) was subsequently mellower in tone, exploring 1970s funk, 1980s pop, and 1990s soul. Her critically acclaimed fifth studio album, Beyoncé (2013), was distinguished from previous releases by its experimental production and exploration of darker themes.', 'A self-described \"modern-day feminist\", Beyoncé creates songs that are often characterized by themes of love, relationships, and monogamy, as well as female sexuality and empowerment. On stage, her dynamic, highly choreographed performances have led to critics hailing her as one of the best entertainers in contemporary popular music. Throughout a career spanning 19 years, she has sold over 118 million records as a solo artist, and a further 60 million with Destiny\\'s Child, making her one of the best-selling music artists of all time. She has won 20 Grammy Awards and is the most nominated woman in the award\\'s history. The Recording Industry Association of America recognized her as the Top Certified Artist in America during the 2000s decade. In 2009, Billboard named her the Top Radio Songs Artist of the Decade, the Top Female Artist of the 2000s and their Artist of the Millennium in 2011. Time listed her among the 100 most influential people in the world in 2013 and 2014. Forbes magazine also listed her as the most powerful female musician of 2015.']\n",
      "\n",
      "Questions:\n",
      " ['When did Beyonce start becoming popular?', 'What areas did Beyonce compete in when she was growing up?', \"When did Beyonce leave Destiny's Child and become a solo singer?\"]\n",
      "\n",
      "Answers:\n",
      " ['in the late 1990s', 'singing and dancing', '2003']\n"
     ]
    }
   ],
   "source": [
    "#remove spaces\n",
    "paragraphs = [re.sub('\\n', ' ', doc) for doc in paragraphs]\n",
    "questions = [re.sub('\\n', ' ', question) for question in questions]\n",
    "answers = [re.sub('\\n', ' ', answer) for answer in answers]\n",
    "#remove email(probably not useful)\n",
    "paragraphs = [re.sub('[a-zA-Z0-9._%+-]+@[a-zA-Z0-9.-]+\\.[a-zA-Z]{2,}', '', doc) for doc in paragraphs]\n",
    "questions = [re.sub('[a-zA-Z0-9._%+-]+@[a-zA-Z0-9.-]+\\.[a-zA-Z]{2,}', '', question) for question in questions]\n",
    "answers = [re.sub('[a-zA-Z0-9._%+-]+@[a-zA-Z0-9.-]+\\.[a-zA-Z]{2,}', '', answer) for answer in answers]\n",
    "# split sentences\n",
    "sentences_par = [re.split('[?!.]\\s', doc) for doc in paragraphs]\n",
    "sentences_que = [re.split('[?!.]\\s', question) for question in questions]\n",
    "sentences_ans = [re.split('[?!.]\\s', answer) for answer in answers]\n",
    "\n",
    "print(\"Paragraphs:\\n\", paragraphs[:3])\n",
    "print(\"\\nQuestions:\\n\", questions[:3])\n",
    "print(\"\\nAnswers:\\n\", answers[:3])"
   ]
  },
  {
   "cell_type": "code",
   "execution_count": 4,
   "metadata": {},
   "outputs": [
    {
     "data": {
      "text/plain": [
       "['When did Beyonce start becoming popular?',\n",
       " 'What areas did Beyonce compete in when she was growing up?',\n",
       " \"When did Beyonce leave Destiny's Child and become a solo singer?\",\n",
       " 'In what city and state did Beyonce  grow up',\n",
       " '']"
      ]
     },
     "execution_count": 4,
     "metadata": {},
     "output_type": "execute_result"
    }
   ],
   "source": [
    "from pandas.core.common import flatten\n",
    "#flatten the structure to 3 big array of phrase\n",
    "sentences_par = list(flatten(sentences_par))\n",
    "sentences_que= list(flatten(sentences_que))\n",
    "sentences_ans = list(flatten(sentences_ans))\n",
    "\n",
    "sentences_par[:5]\n",
    "sentences_ans[:5]\n",
    "sentences_que[:5]"
   ]
  },
  {
   "cell_type": "code",
   "execution_count": 5,
   "metadata": {},
   "outputs": [
    {
     "name": "stdout",
     "output_type": "stream",
     "text": [
      "['beyoncé', 'giselle', 'knowles', 'carter', 'biːˈjɒnseɪ', 'bee', 'yon', 'say', 'born', 'september', '4', '1981', 'is', 'an', 'american', 'singer', 'songwriter', 'record', 'producer', 'and', 'actress']\n",
      "['born', 'and', 'raised', 'in', 'houston', 'texas', 'she', 'performed', 'in', 'various', 'singing', 'and', 'dancing', 'competitions', 'as', 'a', 'child', 'and', 'rose', 'to', 'fame', 'in', 'the', 'late', '1990s', 'as', 'lead', 'singer', 'of', 'r', 'b', 'girl', 'group', 'destiny', 's', 'child']\n",
      "['managed', 'by', 'her', 'father', 'mathew', 'knowles', 'the', 'group', 'became', 'one', 'of', 'the', 'world', 's', 'best', 'selling', 'girl', 'groups', 'of', 'all', 'time']\n",
      "['their', 'hiatus', 'saw', 'the', 'release', 'of', 'beyoncé', 's', 'debut', 'album', 'dangerously', 'in', 'love', '2003', 'which', 'established', 'her', 'as', 'a', 'solo', 'artist', 'worldwide', 'earned', 'five', 'grammy', 'awards', 'and', 'featured', 'the', 'billboard', 'hot', '100', 'number', 'one', 'singles', 'crazy', 'in', 'love', 'and', 'baby', 'boy']\n",
      "['following', 'the', 'disbandment', 'of', 'destiny', 's', 'child', 'in', 'june', '2005', 'she', 'released', 'her', 'second', 'solo', 'album', 'b', 'day', '2006', 'which', 'contained', 'hits', 'déjà', 'vu', 'irreplaceable', 'and', 'beautiful', 'liar']\n",
      "['beyoncé', 'also', 'ventured', 'into', 'acting', 'with', 'a', 'golden', 'globe', 'nominated', 'performance', 'in', 'dreamgirls', '2006', 'and', 'starring', 'roles', 'in', 'the', 'pink', 'panther', '2006', 'and', 'obsessed', '2009']\n",
      "['her', 'marriage', 'to', 'rapper', 'jay', 'z', 'and', 'portrayal', 'of', 'etta', 'james', 'in', 'cadillac', 'records', '2008', 'influenced', 'her', 'third', 'album', 'i', 'am']\n",
      "['sasha', 'fierce', '2008', 'which', 'saw', 'the', 'birth', 'of', 'her', 'alter', 'ego', 'sasha', 'fierce', 'and', 'earned', 'a', 'record', 'setting', 'six', 'grammy', 'awards', 'in', '2010', 'including', 'song', 'of', 'the', 'year', 'for', 'single', 'ladies', 'put', 'a', 'ring', 'on', 'it']\n",
      "['beyoncé', 'took', 'a', 'hiatus', 'from', 'music', 'in', '2010', 'and', 'took', 'over', 'management', 'of', 'her', 'career', 'her', 'fourth', 'album', '4', '2011', 'was', 'subsequently', 'mellower', 'in', 'tone', 'exploring', '1970s', 'funk', '1980s', 'pop', 'and', '1990s', 'soul']\n",
      "['her', 'critically', 'acclaimed', 'fifth', 'studio', 'album', 'beyoncé', '2013', 'was', 'distinguished', 'from', 'previous', 'releases', 'by', 'its', 'experimental', 'production', 'and', 'exploration', 'of', 'darker', 'themes']\n"
     ]
    }
   ],
   "source": [
    "#Data cleaning\n",
    "tokenized_sentences_par = [re.sub('\\W', ' ', sentence).lower().split() for sentence in sentences_par]\n",
    "tokenized_sentences_que = [re.sub('\\W', ' ', sentence).lower().split() for sentence in sentences_que]\n",
    "tokenized_sentences_ans = [re.sub('\\W', ' ', sentence).lower().split() for sentence in sentences_ans]\n",
    "# remove sentences that are only 1 word long\n",
    "tokenized_sentences_par = [sentence for sentence in tokenized_sentences_par if len(sentence) > 1]\n",
    "tokenized_sentences_que = [sentence for sentence in tokenized_sentences_que if len(sentence) > 1]\n",
    "tokenized_sentences_ans = [sentence for sentence in tokenized_sentences_ans if len(sentence) > 1]\n",
    "\n",
    "#Not sure if it is right or not (sentences all togheter)\n",
    "all_tokenized_sentences = tokenized_sentences_par + tokenized_sentences_que +tokenized_sentences_ans\n",
    "for sentence in all_tokenized_sentences[:10]:\n",
    "    print(sentence)"
   ]
  },
  {
   "cell_type": "code",
   "execution_count": 6,
   "metadata": {},
   "outputs": [
    {
     "name": "stdout",
     "output_type": "stream",
     "text": [
      "Vocabulary Length: 84893\n",
      "['beyoncé', 'giselle', 'knowles', 'carter', 'biːˈjɒnseɪ', 'bee', 'yon', 'say', 'born', 'september', '4', '1981', 'is', 'an', 'american', 'singer', 'songwriter', 'record', 'producer', 'and', 'actress', 'born', 'and', 'raised', 'in', 'houston', 'texas', 'she', 'performed', 'in', 'various', 'singing', 'and', 'dancing', 'competitions', 'as', 'a', 'child', 'and', 'rose', 'to', 'fame', 'in', 'the', 'late', '1990s', 'as', 'lead', 'singer', 'of', 'r', 'b', 'girl', 'group', 'destiny', 's', 'child', 'managed', 'by', 'her', 'father', 'mathew', 'knowles', 'the', 'group', 'became', 'one', 'of', 'the', 'world', 's', 'best', 'selling', 'girl', 'groups', 'of', 'all', 'time', 'their', 'hiatus', 'saw', 'the', 'release', 'of', 'beyoncé', 's', 'debut', 'album', 'dangerously', 'in', 'love', '2003', 'which', 'established', 'her', 'as', 'a', 'solo', 'artist', 'worldwide']\n"
     ]
    }
   ],
   "source": [
    "all_words = [word for sentence in all_tokenized_sentences for word in sentence]\n",
    "\n",
    "\n",
    "# Create a set to get unique words\n",
    "unique_words = set(all_words)\n",
    "\n",
    "# Get the length of the vocabulary\n",
    "vocab_length = len(unique_words)\n",
    "\n",
    "# Print the length of the vocabulary\n",
    "print(\"Vocabulary Length:\", vocab_length)\n",
    "print(all_words[:100])"
   ]
  },
  {
   "cell_type": "code",
   "execution_count": 9,
   "metadata": {},
   "outputs": [
    {
     "data": {
      "text/plain": [
       "Text(0, 0.5, 'Frequency')"
      ]
     },
     "execution_count": 9,
     "metadata": {},
     "output_type": "execute_result"
    },
    {
     "data": {
      "image/png": "[encoded data removed]",
      "text/plain": [
       "<Figure size 1200x600 with 1 Axes>"
      ]
     },
     "metadata": {},
     "output_type": "display_data"
    }
   ],
   "source": [
    "import matplotlib.pyplot as plt\n",
    "\n",
    "# Document lengths\n",
    "document_lengths_par = [len(sentence) for sentence in tokenized_sentences_par]\n",
    "document_lengths_que = [len(sentence) for sentence in tokenized_sentences_que]\n",
    "document_lengths_ans = [len(sentence) for sentence in tokenized_sentences_ans]\n",
    "\n",
    "# Combine all document lengths into a single list\n",
    "all_document_lengths = document_lengths_par + document_lengths_que + document_lengths_ans\n",
    "\n",
    "# Plot histograms\n",
    "plt.figure(figsize=(12, 6))\n",
    "\n",
    "#plt.subplot(1, 2, 1)\n",
    "plt.hist(all_document_lengths, bins=30, color='blue', alpha=0.7)\n",
    "plt.title('Distribution of Document Lengths')\n",
    "plt.xlabel('Document Length')\n",
    "plt.ylabel('Frequency')\n",
    "\n",
    "\n"
   ]
  },
  {
   "cell_type": "markdown",
   "metadata": {},
   "source": [
    "### Embedding\n"
   ]
  },
  {
   "cell_type": "code",
   "execution_count": 10,
   "metadata": {},
   "outputs": [],
   "source": [
    "from gensim.models.word2vec import Word2Vec\n",
    "#parameter equal to the class exampale no really a choice\n",
    "model_par = Word2Vec(tokenized_sentences_par, vector_size=30, min_count=5, window=10)\n",
    "model_que = Word2Vec(tokenized_sentences_que, vector_size=30, min_count=5, window=10)\n",
    "model_ans = Word2Vec(tokenized_sentences_ans, vector_size=30, min_count=5, window=10)\n",
    "\n",
    "#embedding for the full model\n",
    "model_all = Word2Vec(all_tokenized_sentences,vector_size=30,min_count=5,window=10)"
   ]
  },
  {
   "cell_type": "code",
   "execution_count": 11,
   "metadata": {},
   "outputs": [
    {
     "name": "stdout",
     "output_type": "stream",
     "text": [
      "23368\n",
      "13829\n",
      "6987\n",
      "Full model \n",
      " 30852\n"
     ]
    }
   ],
   "source": [
    "#vocabolary used by Word2Vec:\n",
    "print(len(model_par.wv))\n",
    "print(len(model_que.wv))\n",
    "print(len(model_ans.wv))\n",
    "print(\"Full model \\n\",len(model_all.wv))"
   ]
  },
  {
   "cell_type": "code",
   "execution_count": 12,
   "metadata": {},
   "outputs": [
    {
     "data": {
      "text/plain": [
       "[('beyoncé', 0.9587403535842896),\n",
       " ('madonna', 0.8777399659156799),\n",
       " ('kanye', 0.8744392991065979),\n",
       " ('solo', 0.8737894296646118),\n",
       " ('destiny', 0.8715434074401855),\n",
       " ('spielberg', 0.8517381548881531),\n",
       " ('album', 0.8383715152740479),\n",
       " ('chopin', 0.8346837759017944),\n",
       " ('jay', 0.8085450530052185),\n",
       " ('lee', 0.800643801689148)]"
      ]
     },
     "execution_count": 12,
     "metadata": {},
     "output_type": "execute_result"
    }
   ],
   "source": [
    "#random tests\n",
    "term = 'beyonce'\n",
    "model_all.wv.most_similar(term)"
   ]
  },
  {
   "cell_type": "markdown",
   "metadata": {},
   "source": [
    "Visualitation"
   ]
  },
  {
   "cell_type": "code",
   "execution_count": 13,
   "metadata": {},
   "outputs": [
    {
     "data": {
      "text/plain": [
       "array([[ 4.7096636e-02, -7.4478924e-01, -7.9071254e-01, ...,\n",
       "        -5.6554645e-01, -1.5340681e+00, -8.5502662e-02],\n",
       "       [-1.9429962e-01,  1.8934861e-01,  2.1330456e-01, ...,\n",
       "        -7.6411955e-02,  4.1729458e-02,  9.6413092e-04],\n",
       "       [-4.4389587e-02, -6.2990360e-02,  3.2467946e-01, ...,\n",
       "         5.6100518e-01, -5.1809990e-01, -2.5135544e-01],\n",
       "       ...,\n",
       "       [ 1.2351947e-01,  6.9122605e-02,  2.9966709e-01, ...,\n",
       "         7.8839317e-02, -3.2832921e-01, -2.2938886e-01],\n",
       "       [-1.0435564e-01,  2.7176303e-01, -3.6306683e-02, ...,\n",
       "        -1.6782263e-01, -1.1365280e+00, -1.0860794e+00],\n",
       "       [-6.3861303e-02,  2.6840016e-02, -6.8221629e-02, ...,\n",
       "        -1.8906994e-02, -1.9340575e-01, -4.5284100e-02]], dtype=float32)"
      ]
     },
     "execution_count": 13,
     "metadata": {},
     "output_type": "execute_result"
    }
   ],
   "source": [
    "import random\n",
    "\n",
    "sample = random.sample(list(model_all.wv.key_to_index), 500)\n",
    "word_vectors = model_all.wv[sample]\n",
    "word_vectors"
   ]
  },
  {
   "cell_type": "code",
   "execution_count": null,
   "metadata": {},
   "outputs": [],
   "source": [
    "\n"
   ]
  },
  {
   "cell_type": "code",
   "execution_count": 15,
   "metadata": {},
   "outputs": [],
   "source": [
    "\n",
    "from sklearn.manifold import TSNE\n",
    "import numpy as np\n",
    "import plotly.express as px\n",
    "\n",
    "tsne = TSNE(n_components=3, n_iter=2000)\n",
    "tsne_embedding = tsne.fit_transform(word_vectors);\n"
   ]
  },
  {
   "cell_type": "code",
   "execution_count": 16,
   "metadata": {},
   "outputs": [
    {
     "data": {
      "application/vnd.plotly.v1+json": {
       "config": {
        "plotlyServerURL": "https://plot.ly"
       },
       "data": [
        {
         "hovertemplate": "x=%{x}<br>y=%{y}<br>z=%{z}<br>text=%{text}<extra></extra>",
         "legendgroup": "",
         "marker": {
          "color": "#636efa",
          "line": {
           "width": 2
          },
          "size": 3,
          "symbol": "circle"
         },
         "mode": "markers+text",
         "name": "",
         "scene": "scene",
         "showlegend": false,
         "text": [
          "raised",
          "customized",
          "dynastic",
          "antioxidants",
          "caliphates",
          "expeditionary",
          "limbic",
          "cause",
          "wield",
          "epirus",
          "doomed",
          "coldest",
          "prevalence",
          "austrians",
          "chains",
          "bans",
          "patchwork",
          "burdens",
          "aravalli",
          "unofficially",
          "monomachos",
          "128k",
          "dungeon",
          "zari",
          "retinues",
          "alternatives",
          "thorne",
          "burroughs",
          "playoff",
          "falsified",
          "pompeius",
          "preferred",
          "tetragrammaton",
          "bittorrent",
          "presumption",
          "donkeys",
          "synthesis",
          "hrant",
          "mstislav",
          "westside",
          "bipartisan",
          "corpse",
          "persepolis",
          "uss",
          "popularised",
          "co",
          "riskier",
          "hole",
          "independence",
          "algebra",
          "1858",
          "cheshire",
          "halftime",
          "living",
          "reliance",
          "assistant",
          "hell",
          "murrah",
          "regionalism",
          "when",
          "counterweight",
          "isabella",
          "wolfe",
          "idealistic",
          "championships",
          "accommodate",
          "squash",
          "cowboys",
          "latitudes",
          "prematurely",
          "completing",
          "underwriting",
          "mean",
          "cudi",
          "experiencing",
          "blends",
          "adolescents",
          "spurs",
          "flown",
          "equivalent",
          "mysterious",
          "segmentation",
          "forget",
          "aphrodite",
          "chapter",
          "adhered",
          "siboglinidae",
          "extinct",
          "ac",
          "guiding",
          "denier",
          "inflectional",
          "climate",
          "premature",
          "bcci",
          "notwithstanding",
          "delegate",
          "hygiene",
          "particularly",
          "g3",
          "majapahit",
          "mixes",
          "broadly",
          "rentals",
          "mayer",
          "1965",
          "db10",
          "110",
          "stepinac",
          "wisconsin",
          "playable",
          "insurgents",
          "rewards",
          "mirchi",
          "kombat",
          "forms",
          "comboy",
          "morrisania",
          "protests",
          "serialization",
          "discussion",
          "seaboard",
          "strange",
          "blooming",
          "canadian",
          "bredow",
          "motor",
          "kaplan",
          "parent",
          "lythgoe",
          "galla",
          "rené",
          "anarchy",
          "ōe",
          "urbium",
          "reptiles",
          "chile",
          "puroresu",
          "philip",
          "etching",
          "delegates",
          "pyre",
          "reduced",
          "1633",
          "unchecked",
          "sicilian",
          "lunar",
          "mantis",
          "far",
          "dismay",
          "düsseldorf",
          "jetties",
          "hand",
          "theoretical",
          "constellations",
          "shuttles",
          "leclerc",
          "kondo",
          "1254",
          "assasination",
          "nueva",
          "enacted",
          "dictatorship",
          "machine",
          "specialization",
          "accelerator",
          "prefigured",
          "1194",
          "dancers",
          "ilyas",
          "myer",
          "dublin",
          "languages",
          "jima",
          "ack",
          "commentary",
          "bald",
          "sayat",
          "tunic",
          "canadensis",
          "economics",
          "laemmle",
          "dictionary",
          "envisaged",
          "motionless",
          "ending",
          "appointed",
          "kingdoms",
          "manumission",
          "instruments",
          "portmiami",
          "harmonize",
          "terraces",
          "invest",
          "plotted",
          "madrid",
          "alterations",
          "1700s",
          "models",
          "doha"
         ],
         "textfont": {
          "size": 10
         },
         "type": "scatter3d",
         "x": [
          -0.4379778206348419,
          26.286222457885742,
          -11.025848388671875,
          -20.799654006958008,
          0.18367142975330353,
          27.005664825439453,
          -27.92979621887207,
          -20.848703384399414,
          -10.996459007263184,
          15.644726753234863,
          -7.953629016876221,
          32.071434020996094,
          -27.40929412841797,
          19.984790802001953,
          1.6160743236541748,
          -30.370956420898438,
          -19.907289505004883,
          -9.241368293762207,
          14.760671615600586,
          6.897104263305664,
          -1.745697021484375,
          28.546241760253906,
          3.9797110557556152,
          -5.636653900146484,
          -12.774096488952637,
          -32.15095520019531,
          14.185091018676758,
          6.974691390991211,
          36.727108001708984,
          -22.942171096801758,
          -6.102191925048828,
          -34.96579360961914,
          -14.006515502929688,
          4.115823268890381,
          9.78671932220459,
          -0.34983640909194946,
          -17.835031509399414,
          25.28827667236328,
          -3.834465980529785,
          9.01465129852295,
          2.602527618408203,
          -10.690871238708496,
          -6.960810661315918,
          29.55634117126465,
          15.967795372009277,
          0.5468609929084778,
          -17.299428939819336,
          -1.8485883474349976,
          27.80185317993164,
          -23.50103759765625,
          19.30164909362793,
          13.759449005126953,
          20.299013137817383,
          -13.62619686126709,
          -26.89496421813965,
          -2.393127202987671,
          -7.654313087463379,
          3.9345879554748535,
          -0.1595805436372757,
          -28.546955108642578,
          0.6495165824890137,
          -8.388569831848145,
          0.40016818046569824,
          -19.328998565673828,
          35.2724723815918,
          27.983400344848633,
          -5.589533805847168,
          16.94957733154297,
          -3.584094762802124,
          0.5675833821296692,
          30.57057762145996,
          32.3311653137207,
          -20.659555435180664,
          12.642171859741211,
          -33.46351623535156,
          -1.7994369268417358,
          -28.77424430847168,
          19.37629508972168,
          45.79148864746094,
          -16.03192138671875,
          -17.27415657043457,
          -26.112062454223633,
          -20.903322219848633,
          2.0596117973327637,
          -0.6700482368469238,
          -22.187416076660156,
          -3.8325307369232178,
          -8.83825397491455,
          -6.825955867767334,
          -21.926738739013672,
          9.910379409790039,
          -19.928630828857422,
          -5.0397868156433105,
          -5.63106632232666,
          11.818625450134277,
          6.236745357513428,
          -14.303564071655273,
          -28.415714263916016,
          -41.87821578979492,
          31.283933639526367,
          -10.150434494018555,
          -10.466120719909668,
          -31.91729736328125,
          11.269014358520508,
          18.522319793701172,
          27.87985610961914,
          11.740150451660156,
          13.096463203430176,
          -1.1784942150115967,
          18.892873764038086,
          42.681251525878906,
          -36.14577865600586,
          -27.916601181030273,
          -0.18586763739585876,
          26.77025032043457,
          -14.430672645568848,
          9.548701286315918,
          -4.342117786407471,
          29.14893913269043,
          15.185277938842773,
          -29.844982147216797,
          14.586455345153809,
          -16.062135696411133,
          -0.2551075518131256,
          32.65241241455078,
          22.557899475097656,
          -11.28126335144043,
          5.907118320465088,
          -20.861061096191406,
          11.122640609741211,
          2.1168107986450195,
          -18.00168228149414,
          -12.507144927978516,
          -4.016083240509033,
          -3.921011209487915,
          -7.6171650886535645,
          16.456436157226562,
          -7.52180290222168,
          12.775562286376953,
          -13.199888229370117,
          -10.523384094238281,
          -13.329209327697754,
          -17.354337692260742,
          -5.917705535888672,
          -15.330889701843262,
          9.746528625488281,
          38.49127960205078,
          -11.133358001708984,
          3.6795284748077393,
          -7.182130813598633,
          14.681644439697266,
          7.699954032897949,
          -29.04447364807129,
          -23.878164291381836,
          -7.652215003967285,
          14.70132827758789,
          8.115428924560547,
          21.783185958862305,
          8.518540382385254,
          -3.9629485607147217,
          4.65380859375,
          -15.728157043457031,
          20.900936126708984,
          -12.761656761169434,
          -26.080188751220703,
          8.932568550109863,
          0.9238506555557251,
          9.997323036193848,
          0.574234127998352,
          -2.4697179794311523,
          19.22319984436035,
          24.936912536621094,
          -14.99161434173584,
          30.689584732055664,
          -1.07269287109375,
          -20.654953002929688,
          8.147425651550293,
          6.374528408050537,
          -17.97775650024414,
          5.277811050415039,
          -23.311193466186523,
          5.049943447113037,
          -8.767351150512695,
          9.018855094909668,
          0.43899646401405334,
          21.588359832763672,
          -7.206246376037598,
          21.63775634765625,
          -16.87401008605957,
          -7.021841049194336,
          20.710128784179688,
          4.230206489562988,
          18.58991241455078,
          34.88187789916992,
          -7.443058967590332,
          34.889198303222656,
          -19.21356773376465,
          26.550310134887695,
          -17.725141525268555,
          -38.837337493896484
         ],
         "y": [
          43.975013732910156,
          -16.841524124145508,
          37.46855926513672,
          -3.870246648788452,
          -0.5783952474594116,
          -2.0532548427581787,
          -8.343877792358398,
          -27.006744384765625,
          8.026521682739258,
          1.0385526418685913,
          13.478282928466797,
          -16.255491256713867,
          -22.25708770751953,
          11.289450645446777,
          -7.6540846824646,
          -19.255949020385742,
          -6.144732475280762,
          6.606951713562012,
          -18.67270851135254,
          41.3975715637207,
          27.08977699279785,
          6.03764009475708,
          -11.540726661682129,
          -2.8063302040100098,
          -8.125205039978027,
          4.614869594573975,
          18.64558982849121,
          15.602309226989746,
          17.310827255249023,
          9.930889129638672,
          22.908363342285156,
          6.3340020179748535,
          -15.313559532165527,
          -5.913735389709473,
          -22.760000228881836,
          -5.341997146606445,
          -13.667724609375,
          -18.780263900756836,
          -4.76594877243042,
          -7.634148597717285,
          -1.6289643049240112,
          18.006023406982422,
          -17.234947204589844,
          -8.694647789001465,
          28.228788375854492,
          28.732913970947266,
          4.418234825134277,
          -23.585798263549805,
          5.423061847686768,
          -8.189467430114746,
          16.206771850585938,
          -8.562764167785645,
          -20.46175193786621,
          -41.9301643371582,
          -13.842301368713379,
          23.315906524658203,
          5.014803409576416,
          -14.321477890014648,
          -19.96537208557129,
          24.034961700439453,
          -18.49486541748047,
          26.14734649658203,
          19.504966735839844,
          -26.86786460876465,
          20.48492431640625,
          -21.5477352142334,
          -7.324310302734375,
          -2.67079758644104,
          -34.37512969970703,
          24.165115356445312,
          19.64565086364746,
          -1.4493972063064575,
          -31.3797664642334,
          11.00593090057373,
          -14.87594223022461,
          -21.34668731689453,
          -13.727298736572266,
          -9.460915565490723,
          -7.733234405517578,
          -28.100200653076172,
          11.341806411743164,
          -17.22701072692871,
          15.765265464782715,
          8.72186279296875,
          19.04912567138672,
          19.028762817382812,
          -26.233888626098633,
          -37.68754577636719,
          -31.03554916381836,
          8.471640586853027,
          6.371303081512451,
          -22.0732421875,
          -42.372962951660156,
          16.492671966552734,
          35.462158203125,
          -18.449260711669922,
          25.16976547241211,
          -16.007305145263672,
          -5.842254638671875,
          0.22787131369113922,
          -11.951722145080566,
          -4.54700231552124,
          -2.432426929473877,
          -11.993828773498535,
          23.259057998657227,
          14.838539123535156,
          5.385463237762451,
          -27.327598571777344,
          23.058063507080078,
          4.274807929992676,
          -4.918856143951416,
          20.54298210144043,
          6.361538410186768,
          13.888259887695312,
          10.4764986038208,
          -15.88813591003418,
          -18.39691925048828,
          -11.324026107788086,
          9.714011192321777,
          -34.82939910888672,
          -2.055116653442383,
          -24.672428131103516,
          10.730701446533203,
          -36.52949523925781,
          2.7159388065338135,
          4.239871025085449,
          -33.440486907958984,
          37.56916046142578,
          25.863195419311523,
          33.83906173706055,
          19.69933319091797,
          5.323459625244141,
          22.11341667175293,
          0.11226436495780945,
          7.039341449737549,
          -33.56473922729492,
          -11.495203971862793,
          -9.337294578552246,
          22.398134231567383,
          -16.239900588989258,
          25.462207794189453,
          -29.13286590576172,
          -31.1385498046875,
          -16.85228729248047,
          10.312251091003418,
          1.5157549381256104,
          -11.377705574035645,
          5.644493103027344,
          -32.69586944580078,
          24.12347984313965,
          -28.026639938354492,
          -13.716577529907227,
          -20.397239685058594,
          -8.095962524414062,
          -28.74656105041504,
          -11.945162773132324,
          17.193687438964844,
          18.56441879272461,
          12.649456977844238,
          -5.662762641906738,
          21.823970794677734,
          17.05743980407715,
          22.38413429260254,
          -29.649700164794922,
          3.8969974517822266,
          6.416433811187744,
          9.222275733947754,
          19.007265090942383,
          1.1613236665725708,
          8.210177421569824,
          -5.899529933929443,
          10.413461685180664,
          -12.604247093200684,
          -3.2695555686950684,
          6.7946906089782715,
          -1.3321099281311035,
          11.236802101135254,
          -25.412647247314453,
          4.1938018798828125,
          -20.720245361328125,
          -2.7005457878112793,
          27.62920570373535,
          33.42877960205078,
          -11.745391845703125,
          -33.99272537231445,
          16.238845825195312,
          16.534915924072266,
          0.5129644274711609,
          21.193981170654297,
          -18.205129623413086,
          6.873848915100098,
          -32.45112228393555,
          -29.66628074645996,
          -19.786996841430664,
          11.687308311462402,
          19.901456832885742,
          3.374492645263672,
          33.872928619384766,
          -23.93824005126953,
          7.773216247558594
         ],
         "z": [
          23.58226203918457,
          -11.299479484558105,
          0.7312067151069641,
          2.183858633041382,
          -52.820518493652344,
          24.134700775146484,
          5.8177642822265625,
          19.53531837463379,
          -27.490638732910156,
          34.47469711303711,
          -6.088818550109863,
          11.475815773010254,
          9.244159698486328,
          35.80803298950195,
          15.472066879272461,
          -28.490144729614258,
          -34.9749755859375,
          -34.240203857421875,
          6.814862251281738,
          -19.339569091796875,
          -5.755222320556641,
          -7.804724216461182,
          -12.036450386047363,
          -3.9337148666381836,
          -49.74906921386719,
          8.259394645690918,
          2.7755544185638428,
          -22.801311492919922,
          2.528428792953491,
          2.1700665950775146,
          -10.575695991516113,
          2.6162335872650146,
          -21.882545471191406,
          -25.327199935913086,
          -43.87257766723633,
          -16.06551170349121,
          23.368186950683594,
          -26.877975463867188,
          -42.89236068725586,
          -11.221883773803711,
          -33.132957458496094,
          14.791675567626953,
          -27.20204734802246,
          25.179943084716797,
          -13.453600883483887,
          35.96022415161133,
          -21.288963317871094,
          18.122493743896484,
          40.19449996948242,
          24.997482299804688,
          25.54830551147461,
          18.635440826416016,
          -31.488697052001953,
          1.4011728763580322,
          20.9519100189209,
          35.90904998779297,
          14.657014846801758,
          -46.73076248168945,
          -29.98363494873047,
          21.272863388061523,
          4.982964515686035,
          22.40955924987793,
          19.23496437072754,
          -15.023560523986816,
          14.436025619506836,
          -6.073122501373291,
          25.037479400634766,
          -41.39741897583008,
          17.0703067779541,
          -26.5477237701416,
          0.6068655252456665,
          -16.966909408569336,
          -1.507590413093567,
          -22.49510955810547,
          7.267585277557373,
          -19.620651245117188,
          34.69850540161133,
          14.155671119689941,
          -0.9869675636291504,
          -0.7690873742103577,
          3.8100483417510986,
          -8.844918251037598,
          8.743947982788086,
          -4.050264835357666,
          42.416603088378906,
          -18.0577392578125,
          -25.832565307617188,
          1.9168460369110107,
          33.50945281982422,
          23.519010543823242,
          -25.733476638793945,
          -12.03302001953125,
          13.062187194824219,
          -13.338034629821777,
          -4.003640174865723,
          -30.159210205078125,
          35.51585388183594,
          12.287225723266602,
          4.702557563781738,
          -10.706409454345703,
          -35.87702941894531,
          11.614643096923828,
          3.3073372840881348,
          -40.670555114746094,
          11.283856391906738,
          28.401329040527344,
          -14.953968048095703,
          20.251541137695312,
          -17.15855598449707,
          11.32758903503418,
          -7.899600505828857,
          -8.321181297302246,
          14.387996673583984,
          0.8447313904762268,
          -2.6723148822784424,
          36.53687286376953,
          -15.653772354125977,
          -40.71479415893555,
          32.25066375732422,
          -15.249795913696289,
          29.231348037719727,
          2.2155096530914307,
          13.46023941040039,
          -24.38043785095215,
          29.32721710205078,
          -32.480674743652344,
          27.683399200439453,
          10.843186378479004,
          11.975534439086914,
          1.2663285732269287,
          -6.612729072570801,
          27.62916374206543,
          -4.232928276062012,
          7.7383198738098145,
          -7.687934875488281,
          6.557558536529541,
          28.469623565673828,
          -7.610476493835449,
          34.737701416015625,
          13.070775032043457,
          38.11288070678711,
          -37.14683151245117,
          14.123434066772461,
          -45.649051666259766,
          -17.219226837158203,
          32.9746208190918,
          15.860389709472656,
          -7.370907306671143,
          6.152915954589844,
          -20.700366973876953,
          -18.16347885131836,
          -6.423521041870117,
          26.21454620361328,
          32.311065673828125,
          -11.131109237670898,
          -1.5568126440048218,
          -13.62692642211914,
          -6.2753705978393555,
          -3.9832923412323,
          -33.782981872558594,
          -0.7817612886428833,
          37.9918327331543,
          28.64141082763672,
          31.445249557495117,
          -22.1074275970459,
          0.043585095554590225,
          -23.93171501159668,
          -8.329061508178711,
          18.21703338623047,
          -12.8654146194458,
          -1.0696165561676025,
          14.82214069366455,
          41.5377082824707,
          18.050073623657227,
          4.802345275878906,
          25.561656951904297,
          19.75770378112793,
          -25.1802921295166,
          -2.54099440574646,
          -20.884748458862305,
          35.86354064941406,
          24.676223754882812,
          11.213563919067383,
          -34.64332962036133,
          -29.894515991210938,
          40.378082275390625,
          36.928794860839844,
          44.64736557006836,
          -25.214921951293945,
          37.46306610107422,
          -14.135549545288086,
          -35.28448486328125,
          -28.1596736907959,
          -4.57597017288208,
          1.342217206954956,
          8.77587604522705,
          12.044013977050781,
          16.11709213256836,
          32.273887634277344,
          -17.22565460205078
         ]
        }
       ],
       "layout": {
        "legend": {
         "tracegroupgap": 0
        },
        "margin": {
         "t": 60
        },
        "scene": {
         "domain": {
          "x": [
           0,
           1
          ],
          "y": [
           0,
           1
          ]
         },
         "xaxis": {
          "title": {
           "text": "x"
          }
         },
         "yaxis": {
          "title": {
           "text": "y"
          }
         },
         "zaxis": {
          "title": {
           "text": "z"
          }
         }
        },
        "template": {
         "data": {
          "bar": [
           {
            "error_x": {
             "color": "#2a3f5f"
            },
            "error_y": {
             "color": "#2a3f5f"
            },
            "marker": {
             "line": {
              "color": "#E5ECF6",
              "width": 0.5
             },
             "pattern": {
              "fillmode": "overlay",
              "size": 10,
              "solidity": 0.2
             }
            },
            "type": "bar"
           }
          ],
          "barpolar": [
           {
            "marker": {
             "line": {
              "color": "#E5ECF6",
              "width": 0.5
             },
             "pattern": {
              "fillmode": "overlay",
              "size": 10,
              "solidity": 0.2
             }
            },
            "type": "barpolar"
           }
          ],
          "carpet": [
           {
            "aaxis": {
             "endlinecolor": "#2a3f5f",
             "gridcolor": "white",
             "linecolor": "white",
             "minorgridcolor": "white",
             "startlinecolor": "#2a3f5f"
            },
            "baxis": {
             "endlinecolor": "#2a3f5f",
             "gridcolor": "white",
             "linecolor": "white",
             "minorgridcolor": "white",
             "startlinecolor": "#2a3f5f"
            },
            "type": "carpet"
           }
          ],
          "choropleth": [
           {
            "colorbar": {
             "outlinewidth": 0,
             "ticks": ""
            },
            "type": "choropleth"
           }
          ],
          "contour": [
           {
            "colorbar": {
             "outlinewidth": 0,
             "ticks": ""
            },
            "colorscale": [
             [
              0,
              "#0d0887"
             ],
             [
              0.1111111111111111,
              "#46039f"
             ],
             [
              0.2222222222222222,
              "#7201a8"
             ],
             [
              0.3333333333333333,
              "#9c179e"
             ],
             [
              0.4444444444444444,
              "#bd3786"
             ],
             [
              0.5555555555555556,
              "#d8576b"
             ],
             [
              0.6666666666666666,
              "#ed7953"
             ],
             [
              0.7777777777777778,
              "#fb9f3a"
             ],
             [
              0.8888888888888888,
              "#fdca26"
             ],
             [
              1,
              "#f0f921"
             ]
            ],
            "type": "contour"
           }
          ],
          "contourcarpet": [
           {
            "colorbar": {
             "outlinewidth": 0,
             "ticks": ""
            },
            "type": "contourcarpet"
           }
          ],
          "heatmap": [
           {
            "colorbar": {
             "outlinewidth": 0,
             "ticks": ""
            },
            "colorscale": [
             [
              0,
              "#0d0887"
             ],
             [
              0.1111111111111111,
              "#46039f"
             ],
             [
              0.2222222222222222,
              "#7201a8"
             ],
             [
              0.3333333333333333,
              "#9c179e"
             ],
             [
              0.4444444444444444,
              "#bd3786"
             ],
             [
              0.5555555555555556,
              "#d8576b"
             ],
             [
              0.6666666666666666,
              "#ed7953"
             ],
             [
              0.7777777777777778,
              "#fb9f3a"
             ],
             [
              0.8888888888888888,
              "#fdca26"
             ],
             [
              1,
              "#f0f921"
             ]
            ],
            "type": "heatmap"
           }
          ],
          "heatmapgl": [
           {
            "colorbar": {
             "outlinewidth": 0,
             "ticks": ""
            },
            "colorscale": [
             [
              0,
              "#0d0887"
             ],
             [
              0.1111111111111111,
              "#46039f"
             ],
             [
              0.2222222222222222,
              "#7201a8"
             ],
             [
              0.3333333333333333,
              "#9c179e"
             ],
             [
              0.4444444444444444,
              "#bd3786"
             ],
             [
              0.5555555555555556,
              "#d8576b"
             ],
             [
              0.6666666666666666,
              "#ed7953"
             ],
             [
              0.7777777777777778,
              "#fb9f3a"
             ],
             [
              0.8888888888888888,
              "#fdca26"
             ],
             [
              1,
              "#f0f921"
             ]
            ],
            "type": "heatmapgl"
           }
          ],
          "histogram": [
           {
            "marker": {
             "pattern": {
              "fillmode": "overlay",
              "size": 10,
              "solidity": 0.2
             }
            },
            "type": "histogram"
           }
          ],
          "histogram2d": [
           {
            "colorbar": {
             "outlinewidth": 0,
             "ticks": ""
            },
            "colorscale": [
             [
              0,
              "#0d0887"
             ],
             [
              0.1111111111111111,
              "#46039f"
             ],
             [
              0.2222222222222222,
              "#7201a8"
             ],
             [
              0.3333333333333333,
              "#9c179e"
             ],
             [
              0.4444444444444444,
              "#bd3786"
             ],
             [
              0.5555555555555556,
              "#d8576b"
             ],
             [
              0.6666666666666666,
              "#ed7953"
             ],
             [
              0.7777777777777778,
              "#fb9f3a"
             ],
             [
              0.8888888888888888,
              "#fdca26"
             ],
             [
              1,
              "#f0f921"
             ]
            ],
            "type": "histogram2d"
           }
          ],
          "histogram2dcontour": [
           {
            "colorbar": {
             "outlinewidth": 0,
             "ticks": ""
            },
            "colorscale": [
             [
              0,
              "#0d0887"
             ],
             [
              0.1111111111111111,
              "#46039f"
             ],
             [
              0.2222222222222222,
              "#7201a8"
             ],
             [
              0.3333333333333333,
              "#9c179e"
             ],
             [
              0.4444444444444444,
              "#bd3786"
             ],
             [
              0.5555555555555556,
              "#d8576b"
             ],
             [
              0.6666666666666666,
              "#ed7953"
             ],
             [
              0.7777777777777778,
              "#fb9f3a"
             ],
             [
              0.8888888888888888,
              "#fdca26"
             ],
             [
              1,
              "#f0f921"
             ]
            ],
            "type": "histogram2dcontour"
           }
          ],
          "mesh3d": [
           {
            "colorbar": {
             "outlinewidth": 0,
             "ticks": ""
            },
            "type": "mesh3d"
           }
          ],
          "parcoords": [
           {
            "line": {
             "colorbar": {
              "outlinewidth": 0,
              "ticks": ""
             }
            },
            "type": "parcoords"
           }
          ],
          "pie": [
           {
            "automargin": true,
            "type": "pie"
           }
          ],
          "scatter": [
           {
            "fillpattern": {
             "fillmode": "overlay",
             "size": 10,
             "solidity": 0.2
            },
            "type": "scatter"
           }
          ],
          "scatter3d": [
           {
            "line": {
             "colorbar": {
              "outlinewidth": 0,
              "ticks": ""
             }
            },
            "marker": {
             "colorbar": {
              "outlinewidth": 0,
              "ticks": ""
             }
            },
            "type": "scatter3d"
           }
          ],
          "scattercarpet": [
           {
            "marker": {
             "colorbar": {
              "outlinewidth": 0,
              "ticks": ""
             }
            },
            "type": "scattercarpet"
           }
          ],
          "scattergeo": [
           {
            "marker": {
             "colorbar": {
              "outlinewidth": 0,
              "ticks": ""
             }
            },
            "type": "scattergeo"
           }
          ],
          "scattergl": [
           {
            "marker": {
             "colorbar": {
              "outlinewidth": 0,
              "ticks": ""
             }
            },
            "type": "scattergl"
           }
          ],
          "scattermapbox": [
           {
            "marker": {
             "colorbar": {
              "outlinewidth": 0,
              "ticks": ""
             }
            },
            "type": "scattermapbox"
           }
          ],
          "scatterpolar": [
           {
            "marker": {
             "colorbar": {
              "outlinewidth": 0,
              "ticks": ""
             }
            },
            "type": "scatterpolar"
           }
          ],
          "scatterpolargl": [
           {
            "marker": {
             "colorbar": {
              "outlinewidth": 0,
              "ticks": ""
             }
            },
            "type": "scatterpolargl"
           }
          ],
          "scatterternary": [
           {
            "marker": {
             "colorbar": {
              "outlinewidth": 0,
              "ticks": ""
             }
            },
            "type": "scatterternary"
           }
          ],
          "surface": [
           {
            "colorbar": {
             "outlinewidth": 0,
             "ticks": ""
            },
            "colorscale": [
             [
              0,
              "#0d0887"
             ],
             [
              0.1111111111111111,
              "#46039f"
             ],
             [
              0.2222222222222222,
              "#7201a8"
             ],
             [
              0.3333333333333333,
              "#9c179e"
             ],
             [
              0.4444444444444444,
              "#bd3786"
             ],
             [
              0.5555555555555556,
              "#d8576b"
             ],
             [
              0.6666666666666666,
              "#ed7953"
             ],
             [
              0.7777777777777778,
              "#fb9f3a"
             ],
             [
              0.8888888888888888,
              "#fdca26"
             ],
             [
              1,
              "#f0f921"
             ]
            ],
            "type": "surface"
           }
          ],
          "table": [
           {
            "cells": {
             "fill": {
              "color": "#EBF0F8"
             },
             "line": {
              "color": "white"
             }
            },
            "header": {
             "fill": {
              "color": "#C8D4E3"
             },
             "line": {
              "color": "white"
             }
            },
            "type": "table"
           }
          ]
         },
         "layout": {
          "annotationdefaults": {
           "arrowcolor": "#2a3f5f",
           "arrowhead": 0,
           "arrowwidth": 1
          },
          "autotypenumbers": "strict",
          "coloraxis": {
           "colorbar": {
            "outlinewidth": 0,
            "ticks": ""
           }
          },
          "colorscale": {
           "diverging": [
            [
             0,
             "#8e0152"
            ],
            [
             0.1,
             "#c51b7d"
            ],
            [
             0.2,
             "#de77ae"
            ],
            [
             0.3,
             "#f1b6da"
            ],
            [
             0.4,
             "#fde0ef"
            ],
            [
             0.5,
             "#f7f7f7"
            ],
            [
             0.6,
             "#e6f5d0"
            ],
            [
             0.7,
             "#b8e186"
            ],
            [
             0.8,
             "#7fbc41"
            ],
            [
             0.9,
             "#4d9221"
            ],
            [
             1,
             "#276419"
            ]
           ],
           "sequential": [
            [
             0,
             "#0d0887"
            ],
            [
             0.1111111111111111,
             "#46039f"
            ],
            [
             0.2222222222222222,
             "#7201a8"
            ],
            [
             0.3333333333333333,
             "#9c179e"
            ],
            [
             0.4444444444444444,
             "#bd3786"
            ],
            [
             0.5555555555555556,
             "#d8576b"
            ],
            [
             0.6666666666666666,
             "#ed7953"
            ],
            [
             0.7777777777777778,
             "#fb9f3a"
            ],
            [
             0.8888888888888888,
             "#fdca26"
            ],
            [
             1,
             "#f0f921"
            ]
           ],
           "sequentialminus": [
            [
             0,
             "#0d0887"
            ],
            [
             0.1111111111111111,
             "#46039f"
            ],
            [
             0.2222222222222222,
             "#7201a8"
            ],
            [
             0.3333333333333333,
             "#9c179e"
            ],
            [
             0.4444444444444444,
             "#bd3786"
            ],
            [
             0.5555555555555556,
             "#d8576b"
            ],
            [
             0.6666666666666666,
             "#ed7953"
            ],
            [
             0.7777777777777778,
             "#fb9f3a"
            ],
            [
             0.8888888888888888,
             "#fdca26"
            ],
            [
             1,
             "#f0f921"
            ]
           ]
          },
          "colorway": [
           "#636efa",
           "#EF553B",
           "#00cc96",
           "#ab63fa",
           "#FFA15A",
           "#19d3f3",
           "#FF6692",
           "#B6E880",
           "#FF97FF",
           "#FECB52"
          ],
          "font": {
           "color": "#2a3f5f"
          },
          "geo": {
           "bgcolor": "white",
           "lakecolor": "white",
           "landcolor": "#E5ECF6",
           "showlakes": true,
           "showland": true,
           "subunitcolor": "white"
          },
          "hoverlabel": {
           "align": "left"
          },
          "hovermode": "closest",
          "mapbox": {
           "style": "light"
          },
          "paper_bgcolor": "white",
          "plot_bgcolor": "#E5ECF6",
          "polar": {
           "angularaxis": {
            "gridcolor": "white",
            "linecolor": "white",
            "ticks": ""
           },
           "bgcolor": "#E5ECF6",
           "radialaxis": {
            "gridcolor": "white",
            "linecolor": "white",
            "ticks": ""
           }
          },
          "scene": {
           "xaxis": {
            "backgroundcolor": "#E5ECF6",
            "gridcolor": "white",
            "gridwidth": 2,
            "linecolor": "white",
            "showbackground": true,
            "ticks": "",
            "zerolinecolor": "white"
           },
           "yaxis": {
            "backgroundcolor": "#E5ECF6",
            "gridcolor": "white",
            "gridwidth": 2,
            "linecolor": "white",
            "showbackground": true,
            "ticks": "",
            "zerolinecolor": "white"
           },
           "zaxis": {
            "backgroundcolor": "#E5ECF6",
            "gridcolor": "white",
            "gridwidth": 2,
            "linecolor": "white",
            "showbackground": true,
            "ticks": "",
            "zerolinecolor": "white"
           }
          },
          "shapedefaults": {
           "line": {
            "color": "#2a3f5f"
           }
          },
          "ternary": {
           "aaxis": {
            "gridcolor": "white",
            "linecolor": "white",
            "ticks": ""
           },
           "baxis": {
            "gridcolor": "white",
            "linecolor": "white",
            "ticks": ""
           },
           "bgcolor": "#E5ECF6",
           "caxis": {
            "gridcolor": "white",
            "linecolor": "white",
            "ticks": ""
           }
          },
          "title": {
           "x": 0.05
          },
          "xaxis": {
           "automargin": true,
           "gridcolor": "white",
           "linecolor": "white",
           "ticks": "",
           "title": {
            "standoff": 15
           },
           "zerolinecolor": "white",
           "zerolinewidth": 2
          },
          "yaxis": {
           "automargin": true,
           "gridcolor": "white",
           "linecolor": "white",
           "ticks": "",
           "title": {
            "standoff": 15
           },
           "zerolinecolor": "white",
           "zerolinewidth": 2
          }
         }
        }
       }
      }
     },
     "metadata": {},
     "output_type": "display_data"
    }
   ],
   "source": [
    "x, y, z = np.transpose(tsne_embedding)\n",
    "fig = px.scatter_3d(x=x[:200],y=y[:200],z=z[:200],text=sample[:200])\n",
    "fig.update_traces(marker=dict(size=3,line=dict(width=2)),textfont_size=10)\n",
    "fig.show()"
   ]
  },
  {
   "cell_type": "markdown",
   "metadata": {},
   "source": [
    "## PLAYGROUND DIRECT IMPORT FROM HUGGING FACE\n"
   ]
  },
  {
   "cell_type": "code",
   "execution_count": 17,
   "metadata": {},
   "outputs": [
    {
     "name": "stderr",
     "output_type": "stream",
     "text": [
      "C:\\Users\\simon\\AppData\\Local\\Packages\\PythonSoftwareFoundation.Python.3.11_qbz5n2kfra8p0\\LocalCache\\local-packages\\Python311\\site-packages\\tqdm\\auto.py:21: TqdmWarning:\n",
      "\n",
      "IProgress not found. Please update jupyter and ipywidgets. See https://ipywidgets.readthedocs.io/en/stable/user_install.html\n",
      "\n"
     ]
    },
    {
     "data": {
      "text/plain": [
       "Dataset({\n",
       "    features: ['context', 'question', 'answer_start', 'answer_end'],\n",
       "    num_rows: 87599\n",
       "})"
      ]
     },
     "execution_count": 17,
     "metadata": {},
     "output_type": "execute_result"
    }
   ],
   "source": [
    "#This import the data from the datasets library of hugging face and already set-up it in a dataset with context and answer\n",
    "#No idea of the version of the data and validity of it (google colab notebook with youtibe video of Hugging Face on the matter)\n",
    "from datasets import load_dataset\n",
    "\n",
    "raw_datasets = load_dataset(\"squad\")\n",
    "raw_datasets = raw_datasets.remove_columns([\"id\", \"title\"])\n",
    "\n",
    "def prepare_data(example):\n",
    "    answer = example[\"answers\"][\"text\"][0]\n",
    "    example[\"answer_start\"] = example[\"answers\"][\"answer_start\"][0]\n",
    "    example[\"answer_end\"] = example[\"answer_start\"] + len(answer)\n",
    "    return example\n",
    "\n",
    "raw_datasets = raw_datasets.map(prepare_data, remove_columns=[\"answers\"])\n",
    "raw_datasets[\"train\"]"
   ]
  }
 ],
 "metadata": {
  "kernelspec": {
   "display_name": "Python 3",
   "language": "python",
   "name": "python3"
  },
  "language_info": {
   "codemirror_mode": {
    "name": "ipython",
    "version": 3
   },
   "file_extension": ".py",
   "mimetype": "text/x-python",
   "name": "python",
   "nbconvert_exporter": "python",
   "pygments_lexer": "ipython3",
   "version": "3.11.7"
  }
 },
 "nbformat": 4,
 "nbformat_minor": 2
}
