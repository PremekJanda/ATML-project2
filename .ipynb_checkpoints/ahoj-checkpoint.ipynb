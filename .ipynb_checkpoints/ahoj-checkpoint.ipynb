{
 "cells": [
  {
   "cell_type": "code",
   "execution_count": null,
   "metadata": {},
   "outputs": [],
   "source": [
    "import os, librosa, audioread, uuid, wave\n",
    "import numpy as np\n",
    "from pydub import AudioSegment\n",
    "from pydub.effects import normalize\n",
    "from flask import Flask, render_template, jsonify, send_file, url_for\n",
    "from flask import Flask, request, session\n",
    "from flask_socketio import SocketIO, emit\n",
    "from scipy.io.wavfile import read"
   ]
  },
  {
   "cell_type": "code",
   "execution_count": null,
   "metadata": {},
   "outputs": [],
   "source": [
    "audio = AudioSegment.from_file(\"./static/audio/input-audio-id-1.webm\", format='webm')\n",
    "audio"
   ]
  },
  {
   "cell_type": "code",
   "execution_count": null,
   "metadata": {},
   "outputs": [],
   "source": [
    "audio_array = np.array(audio.get_array_of_samples())\n",
    "print(audio_array)"
   ]
  },
  {
   "cell_type": "code",
   "execution_count": null,
   "metadata": {},
   "outputs": [],
   "source": [
    "import numpy as np\n",
    "duration = audio.shape[0] / audio\n",
    "time = np.linspace(0, duration, num_samples)\n",
    "\n",
    "fig = plt.figure(figsize=(16,4))\n",
    "plt.plot(time, audio, linewidth=0.4)\n",
    "plt.ylabel('Amplitude')\n",
    "plt.xlabel('Time [s]')\n",
    "plt.show()"
   ]
  }
 ],
 "metadata": {
  "language_info": {
   "name": "python"
  }
 },
 "nbformat": 4,
 "nbformat_minor": 2
}
